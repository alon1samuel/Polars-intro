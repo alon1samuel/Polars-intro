{
 "cells": [
  {
   "cell_type": "markdown",
   "metadata": {},
   "source": [
    "# Polars Intro"
   ]
  },
  {
   "cell_type": "markdown",
   "metadata": {},
   "source": [
    "## Install"
   ]
  },
  {
   "cell_type": "code",
   "execution_count": 1,
   "metadata": {},
   "outputs": [],
   "source": [
    "import polars as pl\n",
    "import numpy as np"
   ]
  },
  {
   "cell_type": "code",
   "execution_count": 2,
   "metadata": {},
   "outputs": [],
   "source": [
    "df = pl.read_csv('__mharrison__2020-2021.csv')"
   ]
  },
  {
   "cell_type": "markdown",
   "metadata": {},
   "source": [
    "## Checking a DataFrame"
   ]
  },
  {
   "cell_type": "code",
   "execution_count": 3,
   "metadata": {},
   "outputs": [
    {
     "data": {
      "text/html": [
       "<div><style>\n",
       ".dataframe > thead > tr,\n",
       ".dataframe > tbody > tr {\n",
       "  text-align: right;\n",
       "  white-space: pre-wrap;\n",
       "}\n",
       "</style>\n",
       "<small>shape: (10, 40)</small><table border=\"1\" class=\"dataframe\"><thead><tr><th>Tweet id</th><th>Tweet permalink</th><th>Tweet text</th><th>time</th><th>impressions</th><th>engagements</th><th>engagement rate</th><th>retweets</th><th>replies</th><th>likes</th><th>user profile clicks</th><th>url clicks</th><th>hashtag clicks</th><th>detail expands</th><th>permalink clicks</th><th>app opens</th><th>app installs</th><th>follows</th><th>email tweet</th><th>dial phone</th><th>media views</th><th>media engagements</th><th>promoted impressions</th><th>promoted engagements</th><th>promoted engagement rate</th><th>promoted retweets</th><th>promoted replies</th><th>promoted likes</th><th>promoted user profile clicks</th><th>promoted url clicks</th><th>promoted hashtag clicks</th><th>promoted detail expands</th><th>promoted permalink clicks</th><th>promoted app opens</th><th>promoted app installs</th><th>promoted follows</th><th>promoted email tweet</th><th>promoted dial phone</th><th>promoted media views</th><th>promoted media engagements</th></tr><tr><td>i64</td><td>str</td><td>str</td><td>str</td><td>f64</td><td>f64</td><td>f64</td><td>f64</td><td>f64</td><td>f64</td><td>f64</td><td>f64</td><td>f64</td><td>f64</td><td>f64</td><td>i64</td><td>i64</td><td>i64</td><td>i64</td><td>i64</td><td>i64</td><td>i64</td><td>str</td><td>str</td><td>str</td><td>str</td><td>str</td><td>str</td><td>str</td><td>str</td><td>str</td><td>str</td><td>str</td><td>str</td><td>str</td><td>str</td><td>str</td><td>str</td><td>str</td><td>str</td></tr></thead><tbody><tr><td>1212580517905780737</td><td>&quot;https://twitte…</td><td>&quot;Sounds like a …</td><td>&quot;2020-01-02 03:…</td><td>1465.0</td><td>7.0</td><td>0.004778</td><td>0.0</td><td>0.0</td><td>3.0</td><td>3.0</td><td>0.0</td><td>0.0</td><td>1.0</td><td>0.0</td><td>0</td><td>0</td><td>0</td><td>0</td><td>0</td><td>0</td><td>0</td><td>null</td><td>null</td><td>null</td><td>null</td><td>null</td><td>null</td><td>null</td><td>null</td><td>null</td><td>null</td><td>null</td><td>null</td><td>null</td><td>null</td><td>null</td><td>null</td><td>null</td><td>null</td></tr><tr><td>1212582494828036097</td><td>&quot;https://twitte…</td><td>&quot;@FogleBird Loo…</td><td>&quot;2020-01-02 03:…</td><td>154.0</td><td>3.0</td><td>0.019481</td><td>0.0</td><td>0.0</td><td>1.0</td><td>1.0</td><td>0.0</td><td>0.0</td><td>1.0</td><td>0.0</td><td>0</td><td>0</td><td>0</td><td>0</td><td>0</td><td>0</td><td>0</td><td>null</td><td>null</td><td>null</td><td>null</td><td>null</td><td>null</td><td>null</td><td>null</td><td>null</td><td>null</td><td>null</td><td>null</td><td>null</td><td>null</td><td>null</td><td>null</td><td>null</td><td>null</td></tr><tr><td>1212613735698690049</td><td>&quot;https://twitte…</td><td>&quot;@afilina That&#x27;…</td><td>&quot;2020-01-02 05:…</td><td>1024.0</td><td>6.0</td><td>0.005859</td><td>0.0</td><td>0.0</td><td>1.0</td><td>2.0</td><td>0.0</td><td>0.0</td><td>3.0</td><td>0.0</td><td>0</td><td>0</td><td>0</td><td>0</td><td>0</td><td>0</td><td>0</td><td>null</td><td>null</td><td>null</td><td>null</td><td>null</td><td>null</td><td>null</td><td>null</td><td>null</td><td>null</td><td>null</td><td>null</td><td>null</td><td>null</td><td>null</td><td>null</td><td>null</td><td>null</td></tr><tr><td>1212911749617242113</td><td>&quot;https://twitte…</td><td>&quot;@randal_olson …</td><td>&quot;2020-01-03 01:…</td><td>1419.0</td><td>14.0</td><td>0.009866</td><td>0.0</td><td>1.0</td><td>5.0</td><td>7.0</td><td>0.0</td><td>0.0</td><td>1.0</td><td>0.0</td><td>0</td><td>0</td><td>0</td><td>0</td><td>0</td><td>0</td><td>0</td><td>null</td><td>null</td><td>null</td><td>null</td><td>null</td><td>null</td><td>null</td><td>null</td><td>null</td><td>null</td><td>null</td><td>null</td><td>null</td><td>null</td><td>null</td><td>null</td><td>null</td><td>null</td></tr><tr><td>1212920556028252160</td><td>&quot;https://twitte…</td><td>&quot;@AlSweigart So…</td><td>&quot;2020-01-03 02:…</td><td>198.0</td><td>1.0</td><td>0.005051</td><td>0.0</td><td>0.0</td><td>1.0</td><td>0.0</td><td>0.0</td><td>0.0</td><td>0.0</td><td>0.0</td><td>0</td><td>0</td><td>0</td><td>0</td><td>0</td><td>0</td><td>0</td><td>null</td><td>null</td><td>null</td><td>null</td><td>null</td><td>null</td><td>null</td><td>null</td><td>null</td><td>null</td><td>null</td><td>null</td><td>null</td><td>null</td><td>null</td><td>null</td><td>null</td><td>null</td></tr><tr><td>1212921038356434947</td><td>&quot;https://twitte…</td><td>&quot;@tmarthal @Ted…</td><td>&quot;2020-01-03 02:…</td><td>170.0</td><td>3.0</td><td>0.017647</td><td>0.0</td><td>0.0</td><td>1.0</td><td>1.0</td><td>0.0</td><td>0.0</td><td>1.0</td><td>0.0</td><td>0</td><td>0</td><td>0</td><td>0</td><td>0</td><td>0</td><td>0</td><td>null</td><td>null</td><td>null</td><td>null</td><td>null</td><td>null</td><td>null</td><td>null</td><td>null</td><td>null</td><td>null</td><td>null</td><td>null</td><td>null</td><td>null</td><td>null</td><td>null</td><td>null</td></tr><tr><td>1212921192287330304</td><td>&quot;https://twitte…</td><td>&quot;@gabegundy It&#x27;…</td><td>&quot;2020-01-03 02:…</td><td>104.0</td><td>2.0</td><td>0.019231</td><td>0.0</td><td>1.0</td><td>1.0</td><td>0.0</td><td>0.0</td><td>0.0</td><td>0.0</td><td>0.0</td><td>0</td><td>0</td><td>0</td><td>0</td><td>0</td><td>0</td><td>0</td><td>null</td><td>null</td><td>null</td><td>null</td><td>null</td><td>null</td><td>null</td><td>null</td><td>null</td><td>null</td><td>null</td><td>null</td><td>null</td><td>null</td><td>null</td><td>null</td><td>null</td><td>null</td></tr><tr><td>1212969747186208768</td><td>&quot;https://twitte…</td><td>&quot;@anthonypjshaw…</td><td>&quot;2020-01-03 05:…</td><td>189.0</td><td>0.0</td><td>0.0</td><td>0.0</td><td>0.0</td><td>0.0</td><td>0.0</td><td>0.0</td><td>0.0</td><td>0.0</td><td>0.0</td><td>0</td><td>0</td><td>0</td><td>0</td><td>0</td><td>0</td><td>0</td><td>null</td><td>null</td><td>null</td><td>null</td><td>null</td><td>null</td><td>null</td><td>null</td><td>null</td><td>null</td><td>null</td><td>null</td><td>null</td><td>null</td><td>null</td><td>null</td><td>null</td><td>null</td></tr><tr><td>1212971634019033088</td><td>&quot;https://twitte…</td><td>&quot;@jet_set A lit…</td><td>&quot;2020-01-03 05:…</td><td>900.0</td><td>4.0</td><td>0.004444</td><td>0.0</td><td>0.0</td><td>0.0</td><td>4.0</td><td>0.0</td><td>0.0</td><td>0.0</td><td>0.0</td><td>0</td><td>0</td><td>0</td><td>0</td><td>0</td><td>0</td><td>0</td><td>null</td><td>null</td><td>null</td><td>null</td><td>null</td><td>null</td><td>null</td><td>null</td><td>null</td><td>null</td><td>null</td><td>null</td><td>null</td><td>null</td><td>null</td><td>null</td><td>null</td><td>null</td></tr><tr><td>1213194379793293312</td><td>&quot;https://twitte…</td><td>&quot;@juliasilge @r…</td><td>&quot;2020-01-03 20:…</td><td>252.0</td><td>2.0</td><td>0.007937</td><td>0.0</td><td>0.0</td><td>1.0</td><td>1.0</td><td>0.0</td><td>0.0</td><td>0.0</td><td>0.0</td><td>0</td><td>0</td><td>0</td><td>0</td><td>0</td><td>0</td><td>0</td><td>null</td><td>null</td><td>null</td><td>null</td><td>null</td><td>null</td><td>null</td><td>null</td><td>null</td><td>null</td><td>null</td><td>null</td><td>null</td><td>null</td><td>null</td><td>null</td><td>null</td><td>null</td></tr></tbody></table></div>"
      ],
      "text/plain": [
       "shape: (10, 40)\n",
       "┌───────────┬───────────┬───────────┬───────────┬───┬───────────┬───────────┬───────────┬──────────┐\n",
       "│ Tweet id  ┆ Tweet     ┆ Tweet     ┆ time      ┆ … ┆ promoted  ┆ promoted  ┆ promoted  ┆ promoted │\n",
       "│ ---       ┆ permalink ┆ text      ┆ ---       ┆   ┆ email     ┆ dial      ┆ media     ┆ media    │\n",
       "│ i64       ┆ ---       ┆ ---       ┆ str       ┆   ┆ tweet     ┆ phone     ┆ views     ┆ engageme │\n",
       "│           ┆ str       ┆ str       ┆           ┆   ┆ ---       ┆ ---       ┆ ---       ┆ nts      │\n",
       "│           ┆           ┆           ┆           ┆   ┆ str       ┆ str       ┆ str       ┆ ---      │\n",
       "│           ┆           ┆           ┆           ┆   ┆           ┆           ┆           ┆ str      │\n",
       "╞═══════════╪═══════════╪═══════════╪═══════════╪═══╪═══════════╪═══════════╪═══════════╪══════════╡\n",
       "│ 121258051 ┆ https://t ┆ Sounds    ┆ 2020-01-0 ┆ … ┆ null      ┆ null      ┆ null      ┆ null     │\n",
       "│ 790578073 ┆ witter.co ┆ like a    ┆ 2 03:44:0 ┆   ┆           ┆           ┆           ┆          │\n",
       "│ 7         ┆ m/__mharr ┆ great     ┆ 0+00:00   ┆   ┆           ┆           ┆           ┆          │\n",
       "│           ┆ ison_…    ┆ topic!    ┆           ┆   ┆           ┆           ┆           ┆          │\n",
       "│           ┆           ┆ https…    ┆           ┆   ┆           ┆           ┆           ┆          │\n",
       "│ 121258249 ┆ https://t ┆ @FogleBir ┆ 2020-01-0 ┆ … ┆ null      ┆ null      ┆ null      ┆ null     │\n",
       "│ 482803609 ┆ witter.co ┆ d Looks   ┆ 2 03:52:0 ┆   ┆           ┆           ┆           ┆          │\n",
       "│ 7         ┆ m/__mharr ┆ like SLC. ┆ 0+00:00   ┆   ┆           ┆           ┆           ┆          │\n",
       "│           ┆ ison_…    ┆ I can…    ┆           ┆   ┆           ┆           ┆           ┆          │\n",
       "│ 121261373 ┆ https://t ┆ @afilina  ┆ 2020-01-0 ┆ … ┆ null      ┆ null      ┆ null      ┆ null     │\n",
       "│ 569869004 ┆ witter.co ┆ That's    ┆ 2 05:56:0 ┆   ┆           ┆           ┆           ┆          │\n",
       "│ 9         ┆ m/__mharr ┆ really    ┆ 0+00:00   ┆   ┆           ┆           ┆           ┆          │\n",
       "│           ┆ ison_…    ┆ amount    ┆           ┆   ┆           ┆           ┆           ┆          │\n",
       "│           ┆           ┆ an…       ┆           ┆   ┆           ┆           ┆           ┆          │\n",
       "│ 121291174 ┆ https://t ┆ @randal_o ┆ 2020-01-0 ┆ … ┆ null      ┆ null      ┆ null      ┆ null     │\n",
       "│ 961724211 ┆ witter.co ┆ lson I    ┆ 3 01:41:0 ┆   ┆           ┆           ┆           ┆          │\n",
       "│ 3         ┆ m/__mharr ┆ use       ┆ 0+00:00   ┆   ┆           ┆           ┆           ┆          │\n",
       "│           ┆ ison_…    ┆ anaconda  ┆           ┆   ┆           ┆           ┆           ┆          │\n",
       "│           ┆           ┆ whe…      ┆           ┆   ┆           ┆           ┆           ┆          │\n",
       "│ 121292055 ┆ https://t ┆ @AlSweiga ┆ 2020-01-0 ┆ … ┆ null      ┆ null      ┆ null      ┆ null     │\n",
       "│ 602825216 ┆ witter.co ┆ rt        ┆ 3 02:16:0 ┆   ┆           ┆           ┆           ┆          │\n",
       "│ 0         ┆ m/__mharr ┆ Sometimes ┆ 0+00:00   ┆   ┆           ┆           ┆           ┆          │\n",
       "│           ┆ ison_…    ┆ the       ┆           ┆   ┆           ┆           ┆           ┆          │\n",
       "│           ┆           ┆ studen…   ┆           ┆   ┆           ┆           ┆           ┆          │\n",
       "│ 121292103 ┆ https://t ┆ @tmarthal ┆ 2020-01-0 ┆ … ┆ null      ┆ null      ┆ null      ┆ null     │\n",
       "│ 835643494 ┆ witter.co ┆ @TedPetro ┆ 3 02:18:0 ┆   ┆           ┆           ┆           ┆          │\n",
       "│ 7         ┆ m/__mharr ┆ u This.   ┆ 0+00:00   ┆   ┆           ┆           ┆           ┆          │\n",
       "│           ┆ ison_…    ┆ Just …    ┆           ┆   ┆           ┆           ┆           ┆          │\n",
       "│ 121292119 ┆ https://t ┆ @gabegund ┆ 2020-01-0 ┆ … ┆ null      ┆ null      ┆ null      ┆ null     │\n",
       "│ 228733030 ┆ witter.co ┆ y It's    ┆ 3 02:18:0 ┆   ┆           ┆           ┆           ┆          │\n",
       "│ 4         ┆ m/__mharr ┆ all       ┆ 0+00:00   ┆   ┆           ┆           ┆           ┆          │\n",
       "│           ┆ ison_…    ┆ downhill  ┆           ┆   ┆           ┆           ┆           ┆          │\n",
       "│           ┆           ┆ sin…      ┆           ┆   ┆           ┆           ┆           ┆          │\n",
       "│ 121296974 ┆ https://t ┆ @anthonyp ┆ 2020-01-0 ┆ … ┆ null      ┆ null      ┆ null      ┆ null     │\n",
       "│ 718620876 ┆ witter.co ┆ jshaw     ┆ 3 05:31:0 ┆   ┆           ┆           ┆           ┆          │\n",
       "│ 8         ┆ m/__mharr ┆ @brettsky ┆ 0+00:00   ┆   ┆           ┆           ┆           ┆          │\n",
       "│           ┆ ison_…    ┆ @codewi…  ┆           ┆   ┆           ┆           ┆           ┆          │\n",
       "│ 121297163 ┆ https://t ┆ @jet_set  ┆ 2020-01-0 ┆ … ┆ null      ┆ null      ┆ null      ┆ null     │\n",
       "│ 401903308 ┆ witter.co ┆ A little  ┆ 3 05:39:0 ┆   ┆           ┆           ┆           ┆          │\n",
       "│ 8         ┆ m/__mharr ┆ smug?     ┆ 0+00:00   ┆   ┆           ┆           ┆           ┆          │\n",
       "│           ┆ ison_…    ┆ 🤔😭      ┆           ┆   ┆           ┆           ┆           ┆          │\n",
       "│ 121319437 ┆ https://t ┆ @juliasil ┆ 2020-01-0 ┆ … ┆ null      ┆ null      ┆ null      ┆ null     │\n",
       "│ 979329331 ┆ witter.co ┆ ge        ┆ 3 20:24:0 ┆   ┆           ┆           ┆           ┆          │\n",
       "│ 2         ┆ m/__mharr ┆ @rstudio  ┆ 0+00:00   ┆   ┆           ┆           ┆           ┆          │\n",
       "│           ┆ ison_…    ┆ Big news. ┆           ┆   ┆           ┆           ┆           ┆          │\n",
       "│           ┆           ┆ C…        ┆           ┆   ┆           ┆           ┆           ┆          │\n",
       "└───────────┴───────────┴───────────┴───────────┴───┴───────────┴───────────┴───────────┴──────────┘"
      ]
     },
     "execution_count": 3,
     "metadata": {},
     "output_type": "execute_result"
    }
   ],
   "source": [
    "# Get the first rows of the dataFrame\n",
    "df.head(n=10)"
   ]
  },
  {
   "cell_type": "code",
   "execution_count": 4,
   "metadata": {},
   "outputs": [
    {
     "data": {
      "text/html": [
       "<div><style>\n",
       ".dataframe > thead > tr,\n",
       ".dataframe > tbody > tr {\n",
       "  text-align: right;\n",
       "  white-space: pre-wrap;\n",
       "}\n",
       "</style>\n",
       "<small>shape: (9, 41)</small><table border=\"1\" class=\"dataframe\"><thead><tr><th>statistic</th><th>Tweet id</th><th>Tweet permalink</th><th>Tweet text</th><th>time</th><th>impressions</th><th>engagements</th><th>engagement rate</th><th>retweets</th><th>replies</th><th>likes</th><th>user profile clicks</th><th>url clicks</th><th>hashtag clicks</th><th>detail expands</th><th>permalink clicks</th><th>app opens</th><th>app installs</th><th>follows</th><th>email tweet</th><th>dial phone</th><th>media views</th><th>media engagements</th><th>promoted impressions</th><th>promoted engagements</th><th>promoted engagement rate</th><th>promoted retweets</th><th>promoted replies</th><th>promoted likes</th><th>promoted user profile clicks</th><th>promoted url clicks</th><th>promoted hashtag clicks</th><th>promoted detail expands</th><th>promoted permalink clicks</th><th>promoted app opens</th><th>promoted app installs</th><th>promoted follows</th><th>promoted email tweet</th><th>promoted dial phone</th><th>promoted media views</th><th>promoted media engagements</th></tr><tr><td>str</td><td>f64</td><td>str</td><td>str</td><td>str</td><td>f64</td><td>f64</td><td>f64</td><td>f64</td><td>f64</td><td>f64</td><td>f64</td><td>f64</td><td>f64</td><td>f64</td><td>f64</td><td>f64</td><td>f64</td><td>f64</td><td>f64</td><td>f64</td><td>f64</td><td>f64</td><td>str</td><td>str</td><td>str</td><td>str</td><td>str</td><td>str</td><td>str</td><td>str</td><td>str</td><td>str</td><td>str</td><td>str</td><td>str</td><td>str</td><td>str</td><td>str</td><td>str</td><td>str</td></tr></thead><tbody><tr><td>&quot;count&quot;</td><td>5791.0</td><td>&quot;5791&quot;</td><td>&quot;5791&quot;</td><td>&quot;5791&quot;</td><td>5791.0</td><td>5791.0</td><td>5791.0</td><td>5791.0</td><td>5791.0</td><td>5791.0</td><td>5791.0</td><td>5791.0</td><td>5791.0</td><td>5791.0</td><td>5791.0</td><td>5791.0</td><td>5791.0</td><td>5791.0</td><td>5791.0</td><td>5791.0</td><td>5791.0</td><td>5791.0</td><td>&quot;0&quot;</td><td>&quot;0&quot;</td><td>&quot;0&quot;</td><td>&quot;0&quot;</td><td>&quot;0&quot;</td><td>&quot;0&quot;</td><td>&quot;0&quot;</td><td>&quot;0&quot;</td><td>&quot;0&quot;</td><td>&quot;0&quot;</td><td>&quot;0&quot;</td><td>&quot;0&quot;</td><td>&quot;0&quot;</td><td>&quot;0&quot;</td><td>&quot;0&quot;</td><td>&quot;0&quot;</td><td>&quot;0&quot;</td><td>&quot;0&quot;</td></tr><tr><td>&quot;null_count&quot;</td><td>0.0</td><td>&quot;0&quot;</td><td>&quot;0&quot;</td><td>&quot;0&quot;</td><td>0.0</td><td>0.0</td><td>0.0</td><td>0.0</td><td>0.0</td><td>0.0</td><td>0.0</td><td>0.0</td><td>0.0</td><td>0.0</td><td>0.0</td><td>0.0</td><td>0.0</td><td>0.0</td><td>0.0</td><td>0.0</td><td>0.0</td><td>0.0</td><td>&quot;5791&quot;</td><td>&quot;5791&quot;</td><td>&quot;5791&quot;</td><td>&quot;5791&quot;</td><td>&quot;5791&quot;</td><td>&quot;5791&quot;</td><td>&quot;5791&quot;</td><td>&quot;5791&quot;</td><td>&quot;5791&quot;</td><td>&quot;5791&quot;</td><td>&quot;5791&quot;</td><td>&quot;5791&quot;</td><td>&quot;5791&quot;</td><td>&quot;5791&quot;</td><td>&quot;5791&quot;</td><td>&quot;5791&quot;</td><td>&quot;5791&quot;</td><td>&quot;5791&quot;</td></tr><tr><td>&quot;mean&quot;</td><td>1.3604e18</td><td>null</td><td>null</td><td>null</td><td>2297.820411</td><td>111.400967</td><td>0.034748</td><td>0.979796</td><td>1.124504</td><td>9.400622</td><td>20.594543</td><td>4.502331</td><td>0.019686</td><td>34.658436</td><td>0.0</td><td>0.001036</td><td>0.0</td><td>0.135901</td><td>0.0</td><td>0.0</td><td>39.868935</td><td>39.712485</td><td>null</td><td>null</td><td>null</td><td>null</td><td>null</td><td>null</td><td>null</td><td>null</td><td>null</td><td>null</td><td>null</td><td>null</td><td>null</td><td>null</td><td>null</td><td>null</td><td>null</td><td>null</td></tr><tr><td>&quot;std&quot;</td><td>6.8508e16</td><td>null</td><td>null</td><td>null</td><td>16414.560844</td><td>976.353689</td><td>0.050031</td><td>10.903919</td><td>6.322059</td><td>108.117865</td><td>436.521415</td><td>32.377223</td><td>0.302481</td><td>355.671163</td><td>0.0</td><td>0.045513</td><td>0.0</td><td>3.870531</td><td>0.0</td><td>0.0</td><td>333.838003</td><td>333.753866</td><td>null</td><td>null</td><td>null</td><td>null</td><td>null</td><td>null</td><td>null</td><td>null</td><td>null</td><td>null</td><td>null</td><td>null</td><td>null</td><td>null</td><td>null</td><td>null</td><td>null</td><td>null</td></tr><tr><td>&quot;min&quot;</td><td>1.2126e18</td><td>&quot;https://twitte…</td><td>&quot;&quot;i&quot; has a spec…</td><td>&quot;2020-01-02 03:…</td><td>7.0</td><td>0.0</td><td>0.0</td><td>0.0</td><td>0.0</td><td>0.0</td><td>0.0</td><td>0.0</td><td>0.0</td><td>0.0</td><td>0.0</td><td>0.0</td><td>0.0</td><td>0.0</td><td>0.0</td><td>0.0</td><td>0.0</td><td>0.0</td><td>null</td><td>null</td><td>null</td><td>null</td><td>null</td><td>null</td><td>null</td><td>null</td><td>null</td><td>null</td><td>null</td><td>null</td><td>null</td><td>null</td><td>null</td><td>null</td><td>null</td><td>null</td></tr><tr><td>&quot;25%&quot;</td><td>1.3142e18</td><td>null</td><td>null</td><td>null</td><td>175.0</td><td>3.0</td><td>0.007064</td><td>0.0</td><td>0.0</td><td>0.0</td><td>0.0</td><td>0.0</td><td>0.0</td><td>1.0</td><td>0.0</td><td>0.0</td><td>0.0</td><td>0.0</td><td>0.0</td><td>0.0</td><td>0.0</td><td>0.0</td><td>null</td><td>null</td><td>null</td><td>null</td><td>null</td><td>null</td><td>null</td><td>null</td><td>null</td><td>null</td><td>null</td><td>null</td><td>null</td><td>null</td><td>null</td><td>null</td><td>null</td><td>null</td></tr><tr><td>&quot;50%&quot;</td><td>1.3589e18</td><td>null</td><td>null</td><td>null</td><td>612.0</td><td>7.0</td><td>0.016043</td><td>0.0</td><td>0.0</td><td>1.0</td><td>1.0</td><td>0.0</td><td>0.0</td><td>3.0</td><td>0.0</td><td>0.0</td><td>0.0</td><td>0.0</td><td>0.0</td><td>0.0</td><td>0.0</td><td>0.0</td><td>null</td><td>null</td><td>null</td><td>null</td><td>null</td><td>null</td><td>null</td><td>null</td><td>null</td><td>null</td><td>null</td><td>null</td><td>null</td><td>null</td><td>null</td><td>null</td><td>null</td><td>null</td></tr><tr><td>&quot;75%&quot;</td><td>1.4155e18</td><td>null</td><td>null</td><td>null</td><td>1617.0</td><td>25.0</td><td>0.040902</td><td>0.0</td><td>1.0</td><td>4.0</td><td>4.0</td><td>0.0</td><td>0.0</td><td>8.0</td><td>0.0</td><td>0.0</td><td>0.0</td><td>0.0</td><td>0.0</td><td>0.0</td><td>0.0</td><td>0.0</td><td>null</td><td>null</td><td>null</td><td>null</td><td>null</td><td>null</td><td>null</td><td>null</td><td>null</td><td>null</td><td>null</td><td>null</td><td>null</td><td>null</td><td>null</td><td>null</td><td>null</td><td>null</td></tr><tr><td>&quot;max&quot;</td><td>1.4770e18</td><td>&quot;https://twitte…</td><td>&quot;🤯🙏 https://t.c…</td><td>&quot;2021-12-31 21:…</td><td>856749.0</td><td>45660.0</td><td>0.484127</td><td>465.0</td><td>207.0</td><td>5358.0</td><td>22393.0</td><td>1272.0</td><td>12.0</td><td>17078.0</td><td>0.0</td><td>3.0</td><td>0.0</td><td>191.0</td><td>0.0</td><td>0.0</td><td>16816.0</td><td>16816.0</td><td>null</td><td>null</td><td>null</td><td>null</td><td>null</td><td>null</td><td>null</td><td>null</td><td>null</td><td>null</td><td>null</td><td>null</td><td>null</td><td>null</td><td>null</td><td>null</td><td>null</td><td>null</td></tr></tbody></table></div>"
      ],
      "text/plain": [
       "shape: (9, 41)\n",
       "┌───────────┬───────────┬───────────┬───────────┬───┬───────────┬───────────┬───────────┬──────────┐\n",
       "│ statistic ┆ Tweet id  ┆ Tweet     ┆ Tweet     ┆ … ┆ promoted  ┆ promoted  ┆ promoted  ┆ promoted │\n",
       "│ ---       ┆ ---       ┆ permalink ┆ text      ┆   ┆ email     ┆ dial      ┆ media     ┆ media    │\n",
       "│ str       ┆ f64       ┆ ---       ┆ ---       ┆   ┆ tweet     ┆ phone     ┆ views     ┆ engageme │\n",
       "│           ┆           ┆ str       ┆ str       ┆   ┆ ---       ┆ ---       ┆ ---       ┆ nts      │\n",
       "│           ┆           ┆           ┆           ┆   ┆ str       ┆ str       ┆ str       ┆ ---      │\n",
       "│           ┆           ┆           ┆           ┆   ┆           ┆           ┆           ┆ str      │\n",
       "╞═══════════╪═══════════╪═══════════╪═══════════╪═══╪═══════════╪═══════════╪═══════════╪══════════╡\n",
       "│ count     ┆ 5791.0    ┆ 5791      ┆ 5791      ┆ … ┆ 0         ┆ 0         ┆ 0         ┆ 0        │\n",
       "│ null_coun ┆ 0.0       ┆ 0         ┆ 0         ┆ … ┆ 5791      ┆ 5791      ┆ 5791      ┆ 5791     │\n",
       "│ t         ┆           ┆           ┆           ┆   ┆           ┆           ┆           ┆          │\n",
       "│ mean      ┆ 1.3604e18 ┆ null      ┆ null      ┆ … ┆ null      ┆ null      ┆ null      ┆ null     │\n",
       "│ std       ┆ 6.8508e16 ┆ null      ┆ null      ┆ … ┆ null      ┆ null      ┆ null      ┆ null     │\n",
       "│ min       ┆ 1.2126e18 ┆ https://t ┆ \"i\" has a ┆ … ┆ null      ┆ null      ┆ null      ┆ null     │\n",
       "│           ┆           ┆ witter.co ┆ specific  ┆   ┆           ┆           ┆           ┆          │\n",
       "│           ┆           ┆ m/__mharr ┆ connotati ┆   ┆           ┆           ┆           ┆          │\n",
       "│           ┆           ┆ ison_…    ┆ on i…     ┆   ┆           ┆           ┆           ┆          │\n",
       "│ 25%       ┆ 1.3142e18 ┆ null      ┆ null      ┆ … ┆ null      ┆ null      ┆ null      ┆ null     │\n",
       "│ 50%       ┆ 1.3589e18 ┆ null      ┆ null      ┆ … ┆ null      ┆ null      ┆ null      ┆ null     │\n",
       "│ 75%       ┆ 1.4155e18 ┆ null      ┆ null      ┆ … ┆ null      ┆ null      ┆ null      ┆ null     │\n",
       "│ max       ┆ 1.4770e18 ┆ https://t ┆ 🤯🙏 http ┆ … ┆ null      ┆ null      ┆ null      ┆ null     │\n",
       "│           ┆           ┆ witter.co ┆ s://t.co/ ┆   ┆           ┆           ┆           ┆          │\n",
       "│           ┆           ┆ m/__mharr ┆ AsLaS3Hrd ┆   ┆           ┆           ┆           ┆          │\n",
       "│           ┆           ┆ ison_…    ┆ v         ┆   ┆           ┆           ┆           ┆          │\n",
       "└───────────┴───────────┴───────────┴───────────┴───┴───────────┴───────────┴───────────┴──────────┘"
      ]
     },
     "execution_count": 4,
     "metadata": {},
     "output_type": "execute_result"
    }
   ],
   "source": [
    "# Get the summary of the dataframe\n",
    "df.describe()"
   ]
  },
  {
   "cell_type": "code",
   "execution_count": 5,
   "metadata": {},
   "outputs": [
    {
     "data": {
      "text/html": [
       "<div><style>\n",
       ".dataframe > thead > tr,\n",
       ".dataframe > tbody > tr {\n",
       "  text-align: right;\n",
       "  white-space: pre-wrap;\n",
       "}\n",
       "</style>\n",
       "<small>shape: (1, 40)</small><table border=\"1\" class=\"dataframe\"><thead><tr><th>Tweet id</th><th>Tweet permalink</th><th>Tweet text</th><th>time</th><th>impressions</th><th>engagements</th><th>engagement rate</th><th>retweets</th><th>replies</th><th>likes</th><th>user profile clicks</th><th>url clicks</th><th>hashtag clicks</th><th>detail expands</th><th>permalink clicks</th><th>app opens</th><th>app installs</th><th>follows</th><th>email tweet</th><th>dial phone</th><th>media views</th><th>media engagements</th><th>promoted impressions</th><th>promoted engagements</th><th>promoted engagement rate</th><th>promoted retweets</th><th>promoted replies</th><th>promoted likes</th><th>promoted user profile clicks</th><th>promoted url clicks</th><th>promoted hashtag clicks</th><th>promoted detail expands</th><th>promoted permalink clicks</th><th>promoted app opens</th><th>promoted app installs</th><th>promoted follows</th><th>promoted email tweet</th><th>promoted dial phone</th><th>promoted media views</th><th>promoted media engagements</th></tr><tr><td>f64</td><td>str</td><td>str</td><td>str</td><td>f64</td><td>f64</td><td>f64</td><td>f64</td><td>f64</td><td>f64</td><td>f64</td><td>f64</td><td>f64</td><td>f64</td><td>f64</td><td>f64</td><td>f64</td><td>f64</td><td>f64</td><td>f64</td><td>f64</td><td>f64</td><td>str</td><td>str</td><td>str</td><td>str</td><td>str</td><td>str</td><td>str</td><td>str</td><td>str</td><td>str</td><td>str</td><td>str</td><td>str</td><td>str</td><td>str</td><td>str</td><td>str</td><td>str</td></tr></thead><tbody><tr><td>1.3589e18</td><td>null</td><td>null</td><td>null</td><td>612.0</td><td>7.0</td><td>0.016043</td><td>0.0</td><td>0.0</td><td>1.0</td><td>1.0</td><td>0.0</td><td>0.0</td><td>3.0</td><td>0.0</td><td>0.0</td><td>0.0</td><td>0.0</td><td>0.0</td><td>0.0</td><td>0.0</td><td>0.0</td><td>null</td><td>null</td><td>null</td><td>null</td><td>null</td><td>null</td><td>null</td><td>null</td><td>null</td><td>null</td><td>null</td><td>null</td><td>null</td><td>null</td><td>null</td><td>null</td><td>null</td><td>null</td></tr></tbody></table></div>"
      ],
      "text/plain": [
       "shape: (1, 40)\n",
       "┌───────────┬─────────────┬───────┬──────┬───┬─────────────┬─────────────┬────────────┬────────────┐\n",
       "│ Tweet id  ┆ Tweet       ┆ Tweet ┆ time ┆ … ┆ promoted    ┆ promoted    ┆ promoted   ┆ promoted   │\n",
       "│ ---       ┆ permalink   ┆ text  ┆ ---  ┆   ┆ email tweet ┆ dial phone  ┆ media      ┆ media enga │\n",
       "│ f64       ┆ ---         ┆ ---   ┆ str  ┆   ┆ ---         ┆ ---         ┆ views      ┆ gements    │\n",
       "│           ┆ str         ┆ str   ┆      ┆   ┆ str         ┆ str         ┆ ---        ┆ ---        │\n",
       "│           ┆             ┆       ┆      ┆   ┆             ┆             ┆ str        ┆ str        │\n",
       "╞═══════════╪═════════════╪═══════╪══════╪═══╪═════════════╪═════════════╪════════════╪════════════╡\n",
       "│ 1.3589e18 ┆ null        ┆ null  ┆ null ┆ … ┆ null        ┆ null        ┆ null       ┆ null       │\n",
       "└───────────┴─────────────┴───────┴──────┴───┴─────────────┴─────────────┴────────────┴────────────┘"
      ]
     },
     "execution_count": 5,
     "metadata": {},
     "output_type": "execute_result"
    }
   ],
   "source": [
    "# Get the 50% quantile of the dataframe\n",
    "df.quantile(0.5)"
   ]
  },
  {
   "cell_type": "code",
   "execution_count": 6,
   "metadata": {},
   "outputs": [
    {
     "data": {
      "text/plain": [
       "['Tweet id',\n",
       " 'app opens',\n",
       " 'app installs',\n",
       " 'follows',\n",
       " 'email tweet',\n",
       " 'dial phone',\n",
       " 'media views',\n",
       " 'media engagements']"
      ]
     },
     "execution_count": 6,
     "metadata": {},
     "output_type": "execute_result"
    }
   ],
   "source": [
    "# Get all the columns that are of type int64\n",
    "df.select(pl.col(pl.Int64)).columns"
   ]
  },
  {
   "cell_type": "markdown",
   "metadata": {},
   "source": [
    "## Filtering"
   ]
  },
  {
   "cell_type": "code",
   "execution_count": 7,
   "metadata": {},
   "outputs": [
    {
     "data": {
      "text/html": [
       "<div><style>\n",
       ".dataframe > thead > tr,\n",
       ".dataframe > tbody > tr {\n",
       "  text-align: right;\n",
       "  white-space: pre-wrap;\n",
       "}\n",
       "</style>\n",
       "<small>shape: (5_791, 18)</small><table border=\"1\" class=\"dataframe\"><thead><tr><th>promoted impressions</th><th>promoted engagements</th><th>promoted engagement rate</th><th>promoted retweets</th><th>promoted replies</th><th>promoted likes</th><th>promoted user profile clicks</th><th>promoted url clicks</th><th>promoted hashtag clicks</th><th>promoted detail expands</th><th>promoted permalink clicks</th><th>promoted app opens</th><th>promoted app installs</th><th>promoted follows</th><th>promoted email tweet</th><th>promoted dial phone</th><th>promoted media views</th><th>promoted media engagements</th></tr><tr><td>str</td><td>str</td><td>str</td><td>str</td><td>str</td><td>str</td><td>str</td><td>str</td><td>str</td><td>str</td><td>str</td><td>str</td><td>str</td><td>str</td><td>str</td><td>str</td><td>str</td><td>str</td></tr></thead><tbody><tr><td>null</td><td>null</td><td>null</td><td>null</td><td>null</td><td>null</td><td>null</td><td>null</td><td>null</td><td>null</td><td>null</td><td>null</td><td>null</td><td>null</td><td>null</td><td>null</td><td>null</td><td>null</td></tr><tr><td>null</td><td>null</td><td>null</td><td>null</td><td>null</td><td>null</td><td>null</td><td>null</td><td>null</td><td>null</td><td>null</td><td>null</td><td>null</td><td>null</td><td>null</td><td>null</td><td>null</td><td>null</td></tr><tr><td>null</td><td>null</td><td>null</td><td>null</td><td>null</td><td>null</td><td>null</td><td>null</td><td>null</td><td>null</td><td>null</td><td>null</td><td>null</td><td>null</td><td>null</td><td>null</td><td>null</td><td>null</td></tr><tr><td>null</td><td>null</td><td>null</td><td>null</td><td>null</td><td>null</td><td>null</td><td>null</td><td>null</td><td>null</td><td>null</td><td>null</td><td>null</td><td>null</td><td>null</td><td>null</td><td>null</td><td>null</td></tr><tr><td>null</td><td>null</td><td>null</td><td>null</td><td>null</td><td>null</td><td>null</td><td>null</td><td>null</td><td>null</td><td>null</td><td>null</td><td>null</td><td>null</td><td>null</td><td>null</td><td>null</td><td>null</td></tr><tr><td>null</td><td>null</td><td>null</td><td>null</td><td>null</td><td>null</td><td>null</td><td>null</td><td>null</td><td>null</td><td>null</td><td>null</td><td>null</td><td>null</td><td>null</td><td>null</td><td>null</td><td>null</td></tr><tr><td>null</td><td>null</td><td>null</td><td>null</td><td>null</td><td>null</td><td>null</td><td>null</td><td>null</td><td>null</td><td>null</td><td>null</td><td>null</td><td>null</td><td>null</td><td>null</td><td>null</td><td>null</td></tr><tr><td>null</td><td>null</td><td>null</td><td>null</td><td>null</td><td>null</td><td>null</td><td>null</td><td>null</td><td>null</td><td>null</td><td>null</td><td>null</td><td>null</td><td>null</td><td>null</td><td>null</td><td>null</td></tr><tr><td>null</td><td>null</td><td>null</td><td>null</td><td>null</td><td>null</td><td>null</td><td>null</td><td>null</td><td>null</td><td>null</td><td>null</td><td>null</td><td>null</td><td>null</td><td>null</td><td>null</td><td>null</td></tr><tr><td>null</td><td>null</td><td>null</td><td>null</td><td>null</td><td>null</td><td>null</td><td>null</td><td>null</td><td>null</td><td>null</td><td>null</td><td>null</td><td>null</td><td>null</td><td>null</td><td>null</td><td>null</td></tr><tr><td>null</td><td>null</td><td>null</td><td>null</td><td>null</td><td>null</td><td>null</td><td>null</td><td>null</td><td>null</td><td>null</td><td>null</td><td>null</td><td>null</td><td>null</td><td>null</td><td>null</td><td>null</td></tr><tr><td>null</td><td>null</td><td>null</td><td>null</td><td>null</td><td>null</td><td>null</td><td>null</td><td>null</td><td>null</td><td>null</td><td>null</td><td>null</td><td>null</td><td>null</td><td>null</td><td>null</td><td>null</td></tr><tr><td>&hellip;</td><td>&hellip;</td><td>&hellip;</td><td>&hellip;</td><td>&hellip;</td><td>&hellip;</td><td>&hellip;</td><td>&hellip;</td><td>&hellip;</td><td>&hellip;</td><td>&hellip;</td><td>&hellip;</td><td>&hellip;</td><td>&hellip;</td><td>&hellip;</td><td>&hellip;</td><td>&hellip;</td><td>&hellip;</td></tr><tr><td>null</td><td>null</td><td>null</td><td>null</td><td>null</td><td>null</td><td>null</td><td>null</td><td>null</td><td>null</td><td>null</td><td>null</td><td>null</td><td>null</td><td>null</td><td>null</td><td>null</td><td>null</td></tr><tr><td>null</td><td>null</td><td>null</td><td>null</td><td>null</td><td>null</td><td>null</td><td>null</td><td>null</td><td>null</td><td>null</td><td>null</td><td>null</td><td>null</td><td>null</td><td>null</td><td>null</td><td>null</td></tr><tr><td>null</td><td>null</td><td>null</td><td>null</td><td>null</td><td>null</td><td>null</td><td>null</td><td>null</td><td>null</td><td>null</td><td>null</td><td>null</td><td>null</td><td>null</td><td>null</td><td>null</td><td>null</td></tr><tr><td>null</td><td>null</td><td>null</td><td>null</td><td>null</td><td>null</td><td>null</td><td>null</td><td>null</td><td>null</td><td>null</td><td>null</td><td>null</td><td>null</td><td>null</td><td>null</td><td>null</td><td>null</td></tr><tr><td>null</td><td>null</td><td>null</td><td>null</td><td>null</td><td>null</td><td>null</td><td>null</td><td>null</td><td>null</td><td>null</td><td>null</td><td>null</td><td>null</td><td>null</td><td>null</td><td>null</td><td>null</td></tr><tr><td>null</td><td>null</td><td>null</td><td>null</td><td>null</td><td>null</td><td>null</td><td>null</td><td>null</td><td>null</td><td>null</td><td>null</td><td>null</td><td>null</td><td>null</td><td>null</td><td>null</td><td>null</td></tr><tr><td>null</td><td>null</td><td>null</td><td>null</td><td>null</td><td>null</td><td>null</td><td>null</td><td>null</td><td>null</td><td>null</td><td>null</td><td>null</td><td>null</td><td>null</td><td>null</td><td>null</td><td>null</td></tr><tr><td>null</td><td>null</td><td>null</td><td>null</td><td>null</td><td>null</td><td>null</td><td>null</td><td>null</td><td>null</td><td>null</td><td>null</td><td>null</td><td>null</td><td>null</td><td>null</td><td>null</td><td>null</td></tr><tr><td>null</td><td>null</td><td>null</td><td>null</td><td>null</td><td>null</td><td>null</td><td>null</td><td>null</td><td>null</td><td>null</td><td>null</td><td>null</td><td>null</td><td>null</td><td>null</td><td>null</td><td>null</td></tr><tr><td>null</td><td>null</td><td>null</td><td>null</td><td>null</td><td>null</td><td>null</td><td>null</td><td>null</td><td>null</td><td>null</td><td>null</td><td>null</td><td>null</td><td>null</td><td>null</td><td>null</td><td>null</td></tr><tr><td>null</td><td>null</td><td>null</td><td>null</td><td>null</td><td>null</td><td>null</td><td>null</td><td>null</td><td>null</td><td>null</td><td>null</td><td>null</td><td>null</td><td>null</td><td>null</td><td>null</td><td>null</td></tr><tr><td>null</td><td>null</td><td>null</td><td>null</td><td>null</td><td>null</td><td>null</td><td>null</td><td>null</td><td>null</td><td>null</td><td>null</td><td>null</td><td>null</td><td>null</td><td>null</td><td>null</td><td>null</td></tr></tbody></table></div>"
      ],
      "text/plain": [
       "shape: (5_791, 18)\n",
       "┌───────────┬───────────┬───────────┬───────────┬───┬───────────┬───────────┬───────────┬──────────┐\n",
       "│ promoted  ┆ promoted  ┆ promoted  ┆ promoted  ┆ … ┆ promoted  ┆ promoted  ┆ promoted  ┆ promoted │\n",
       "│ impressio ┆ engagemen ┆ engagemen ┆ retweets  ┆   ┆ email     ┆ dial      ┆ media     ┆ media    │\n",
       "│ ns        ┆ ts        ┆ t rate    ┆ ---       ┆   ┆ tweet     ┆ phone     ┆ views     ┆ engageme │\n",
       "│ ---       ┆ ---       ┆ ---       ┆ str       ┆   ┆ ---       ┆ ---       ┆ ---       ┆ nts      │\n",
       "│ str       ┆ str       ┆ str       ┆           ┆   ┆ str       ┆ str       ┆ str       ┆ ---      │\n",
       "│           ┆           ┆           ┆           ┆   ┆           ┆           ┆           ┆ str      │\n",
       "╞═══════════╪═══════════╪═══════════╪═══════════╪═══╪═══════════╪═══════════╪═══════════╪══════════╡\n",
       "│ null      ┆ null      ┆ null      ┆ null      ┆ … ┆ null      ┆ null      ┆ null      ┆ null     │\n",
       "│ null      ┆ null      ┆ null      ┆ null      ┆ … ┆ null      ┆ null      ┆ null      ┆ null     │\n",
       "│ null      ┆ null      ┆ null      ┆ null      ┆ … ┆ null      ┆ null      ┆ null      ┆ null     │\n",
       "│ null      ┆ null      ┆ null      ┆ null      ┆ … ┆ null      ┆ null      ┆ null      ┆ null     │\n",
       "│ null      ┆ null      ┆ null      ┆ null      ┆ … ┆ null      ┆ null      ┆ null      ┆ null     │\n",
       "│ …         ┆ …         ┆ …         ┆ …         ┆ … ┆ …         ┆ …         ┆ …         ┆ …        │\n",
       "│ null      ┆ null      ┆ null      ┆ null      ┆ … ┆ null      ┆ null      ┆ null      ┆ null     │\n",
       "│ null      ┆ null      ┆ null      ┆ null      ┆ … ┆ null      ┆ null      ┆ null      ┆ null     │\n",
       "│ null      ┆ null      ┆ null      ┆ null      ┆ … ┆ null      ┆ null      ┆ null      ┆ null     │\n",
       "│ null      ┆ null      ┆ null      ┆ null      ┆ … ┆ null      ┆ null      ┆ null      ┆ null     │\n",
       "│ null      ┆ null      ┆ null      ┆ null      ┆ … ┆ null      ┆ null      ┆ null      ┆ null     │\n",
       "└───────────┴───────────┴───────────┴───────────┴───┴───────────┴───────────┴───────────┴──────────┘"
      ]
     },
     "execution_count": 7,
     "metadata": {},
     "output_type": "execute_result"
    }
   ],
   "source": [
    "\n",
    "# Get all the columns that start with 'promoted' in their name (like 'promoted impressions')\n",
    "df.select(pl.col(r'^promoted.*$'))\n"
   ]
  },
  {
   "cell_type": "code",
   "execution_count": null,
   "metadata": {},
   "outputs": [],
   "source": [
    "# Which arguments can be given to the method 'filter' of a DataFrame\n",
    "print('https://docs.pola.rs/py-polars/html/reference/dataframe/api/polars.DataFrame.filter.html')\n",
    "print(pl.DataFrame().filter.__doc__)"
   ]
  },
  {
   "cell_type": "code",
   "execution_count": 28,
   "metadata": {},
   "outputs": [
    {
     "data": {
      "text/html": [
       "<div><style>\n",
       ".dataframe > thead > tr,\n",
       ".dataframe > tbody > tr {\n",
       "  text-align: right;\n",
       "  white-space: pre-wrap;\n",
       "}\n",
       "</style>\n",
       "<small>shape: (1_103, 41)</small><table border=\"1\" class=\"dataframe\"><thead><tr><th>Tweet id</th><th>Tweet permalink</th><th>Tweet text</th><th>time</th><th>impressions</th><th>engagements</th><th>engagement rate</th><th>retweets</th><th>replies</th><th>likes</th><th>user profile clicks</th><th>url clicks</th><th>hashtag clicks</th><th>detail expands</th><th>permalink clicks</th><th>app opens</th><th>app installs</th><th>follows</th><th>email tweet</th><th>dial phone</th><th>media views</th><th>media engagements</th><th>promoted impressions</th><th>promoted engagements</th><th>promoted engagement rate</th><th>promoted retweets</th><th>promoted replies</th><th>promoted likes</th><th>promoted user profile clicks</th><th>promoted url clicks</th><th>promoted hashtag clicks</th><th>promoted detail expands</th><th>promoted permalink clicks</th><th>promoted app opens</th><th>promoted app installs</th><th>promoted follows</th><th>promoted email tweet</th><th>promoted dial phone</th><th>promoted media views</th><th>promoted media engagements</th><th>time_dt</th></tr><tr><td>i64</td><td>str</td><td>str</td><td>str</td><td>f64</td><td>f64</td><td>f64</td><td>f64</td><td>f64</td><td>f64</td><td>f64</td><td>f64</td><td>f64</td><td>f64</td><td>f64</td><td>i64</td><td>i64</td><td>i64</td><td>i64</td><td>i64</td><td>i64</td><td>i64</td><td>str</td><td>str</td><td>str</td><td>str</td><td>str</td><td>str</td><td>str</td><td>str</td><td>str</td><td>str</td><td>str</td><td>str</td><td>str</td><td>str</td><td>str</td><td>str</td><td>str</td><td>str</td><td>datetime[μs]</td></tr></thead><tbody><tr><td>1214200653058232320</td><td>&quot;https://twitte…</td><td>&quot;I&#x27;ll say it ag…</td><td>&quot;2020-01-06 15:…</td><td>1834.0</td><td>10.0</td><td>0.005453</td><td>2.0</td><td>0.0</td><td>6.0</td><td>0.0</td><td>0.0</td><td>1.0</td><td>1.0</td><td>0.0</td><td>0</td><td>0</td><td>0</td><td>0</td><td>0</td><td>0</td><td>0</td><td>null</td><td>null</td><td>null</td><td>null</td><td>null</td><td>null</td><td>null</td><td>null</td><td>null</td><td>null</td><td>null</td><td>null</td><td>null</td><td>null</td><td>null</td><td>null</td><td>null</td><td>null</td><td>2020-01-06 15:02:00</td></tr><tr><td>1214314937830428673</td><td>&quot;https://twitte…</td><td>&quot;Some advice as…</td><td>&quot;2020-01-06 22:…</td><td>1382.0</td><td>44.0</td><td>0.031838</td><td>1.0</td><td>0.0</td><td>8.0</td><td>6.0</td><td>0.0</td><td>0.0</td><td>1.0</td><td>0.0</td><td>0</td><td>0</td><td>0</td><td>0</td><td>0</td><td>287</td><td>28</td><td>null</td><td>null</td><td>null</td><td>null</td><td>null</td><td>null</td><td>null</td><td>null</td><td>null</td><td>null</td><td>null</td><td>null</td><td>null</td><td>null</td><td>null</td><td>null</td><td>null</td><td>null</td><td>2020-01-06 22:36:00</td></tr><tr><td>1214948162365837312</td><td>&quot;https://twitte…</td><td>&quot;@ProfTracyPear…</td><td>&quot;2020-01-08 16:…</td><td>6661.0</td><td>1141.0</td><td>0.171296</td><td>3.0</td><td>2.0</td><td>123.0</td><td>50.0</td><td>17.0</td><td>0.0</td><td>13.0</td><td>0.0</td><td>0</td><td>0</td><td>0</td><td>0</td><td>0</td><td>933</td><td>933</td><td>null</td><td>null</td><td>null</td><td>null</td><td>null</td><td>null</td><td>null</td><td>null</td><td>null</td><td>null</td><td>null</td><td>null</td><td>null</td><td>null</td><td>null</td><td>null</td><td>null</td><td>null</td><td>2020-01-08 16:33:00</td></tr><tr><td>1215119937292816384</td><td>&quot;https://twitte…</td><td>&quot;Great talk by …</td><td>&quot;2020-01-09 03:…</td><td>28697.0</td><td>1729.0</td><td>0.06025</td><td>64.0</td><td>1.0</td><td>224.0</td><td>143.0</td><td>1177.0</td><td>0.0</td><td>120.0</td><td>0.0</td><td>0</td><td>0</td><td>0</td><td>0</td><td>0</td><td>0</td><td>0</td><td>null</td><td>null</td><td>null</td><td>null</td><td>null</td><td>null</td><td>null</td><td>null</td><td>null</td><td>null</td><td>null</td><td>null</td><td>null</td><td>null</td><td>null</td><td>null</td><td>null</td><td>null</td><td>2020-01-09 03:55:00</td></tr><tr><td>1217539513049735168</td><td>&quot;https://twitte…</td><td>&quot;Lots of traini…</td><td>&quot;2020-01-15 20:…</td><td>3732.0</td><td>509.0</td><td>0.136388</td><td>4.0</td><td>4.0</td><td>25.0</td><td>45.0</td><td>6.0</td><td>0.0</td><td>3.0</td><td>0.0</td><td>0</td><td>0</td><td>0</td><td>0</td><td>0</td><td>422</td><td>422</td><td>null</td><td>null</td><td>null</td><td>null</td><td>null</td><td>null</td><td>null</td><td>null</td><td>null</td><td>null</td><td>null</td><td>null</td><td>null</td><td>null</td><td>null</td><td>null</td><td>null</td><td>null</td><td>2020-01-15 20:10:00</td></tr><tr><td>1217626019038760960</td><td>&quot;https://twitte…</td><td>&quot;Everything* is…</td><td>&quot;2020-01-16 01:…</td><td>5984.0</td><td>73.0</td><td>0.012199</td><td>6.0</td><td>5.0</td><td>36.0</td><td>24.0</td><td>0.0</td><td>0.0</td><td>2.0</td><td>0.0</td><td>0</td><td>0</td><td>0</td><td>0</td><td>0</td><td>0</td><td>0</td><td>null</td><td>null</td><td>null</td><td>null</td><td>null</td><td>null</td><td>null</td><td>null</td><td>null</td><td>null</td><td>null</td><td>null</td><td>null</td><td>null</td><td>null</td><td>null</td><td>null</td><td>null</td><td>2020-01-16 01:53:00</td></tr><tr><td>1224517163551285248</td><td>&quot;https://twitte…</td><td>&quot;Still true two…</td><td>&quot;2020-02-04 02:…</td><td>1888.0</td><td>8.0</td><td>0.004237</td><td>2.0</td><td>0.0</td><td>6.0</td><td>0.0</td><td>0.0</td><td>0.0</td><td>0.0</td><td>0.0</td><td>0</td><td>0</td><td>0</td><td>0</td><td>0</td><td>0</td><td>0</td><td>null</td><td>null</td><td>null</td><td>null</td><td>null</td><td>null</td><td>null</td><td>null</td><td>null</td><td>null</td><td>null</td><td>null</td><td>null</td><td>null</td><td>null</td><td>null</td><td>null</td><td>null</td><td>2020-02-04 02:16:00</td></tr><tr><td>1225956504383082496</td><td>&quot;https://twitte…</td><td>&quot;Busy week with…</td><td>&quot;2020-02-08 01:…</td><td>1120.0</td><td>51.0</td><td>0.045536</td><td>1.0</td><td>0.0</td><td>9.0</td><td>7.0</td><td>27.0</td><td>0.0</td><td>7.0</td><td>0.0</td><td>0</td><td>0</td><td>0</td><td>0</td><td>0</td><td>0</td><td>0</td><td>null</td><td>null</td><td>null</td><td>null</td><td>null</td><td>null</td><td>null</td><td>null</td><td>null</td><td>null</td><td>null</td><td>null</td><td>null</td><td>null</td><td>null</td><td>null</td><td>null</td><td>null</td><td>2020-02-08 01:36:00</td></tr><tr><td>1226940067584839686</td><td>&quot;https://twitte…</td><td>&quot;Wow. This look…</td><td>&quot;2020-02-10 18:…</td><td>2721.0</td><td>27.0</td><td>0.009923</td><td>3.0</td><td>1.0</td><td>13.0</td><td>5.0</td><td>0.0</td><td>0.0</td><td>5.0</td><td>0.0</td><td>0</td><td>0</td><td>0</td><td>0</td><td>0</td><td>0</td><td>0</td><td>null</td><td>null</td><td>null</td><td>null</td><td>null</td><td>null</td><td>null</td><td>null</td><td>null</td><td>null</td><td>null</td><td>null</td><td>null</td><td>null</td><td>null</td><td>null</td><td>null</td><td>null</td><td>2020-02-10 18:44:00</td></tr><tr><td>1226964427263660033</td><td>&quot;https://twitte…</td><td>&quot;Just wrapped u…</td><td>&quot;2020-02-10 20:…</td><td>6745.0</td><td>791.0</td><td>0.117272</td><td>8.0</td><td>4.0</td><td>48.0</td><td>67.0</td><td>7.0</td><td>0.0</td><td>42.0</td><td>0.0</td><td>0</td><td>0</td><td>0</td><td>0</td><td>0</td><td>615</td><td>615</td><td>null</td><td>null</td><td>null</td><td>null</td><td>null</td><td>null</td><td>null</td><td>null</td><td>null</td><td>null</td><td>null</td><td>null</td><td>null</td><td>null</td><td>null</td><td>null</td><td>null</td><td>null</td><td>2020-02-10 20:21:00</td></tr><tr><td>1227079882116603904</td><td>&quot;https://twitte…</td><td>&quot;@AlSweigart @t…</td><td>&quot;2020-02-11 04:…</td><td>1398.0</td><td>18.0</td><td>0.012876</td><td>0.0</td><td>0.0</td><td>10.0</td><td>7.0</td><td>0.0</td><td>0.0</td><td>1.0</td><td>0.0</td><td>0</td><td>0</td><td>0</td><td>0</td><td>0</td><td>0</td><td>0</td><td>null</td><td>null</td><td>null</td><td>null</td><td>null</td><td>null</td><td>null</td><td>null</td><td>null</td><td>null</td><td>null</td><td>null</td><td>null</td><td>null</td><td>null</td><td>null</td><td>null</td><td>null</td><td>2020-02-11 04:00:00</td></tr><tr><td>1228118962078191617</td><td>&quot;https://twitte…</td><td>&quot;Just finished …</td><td>&quot;2020-02-14 00:…</td><td>1884.0</td><td>141.0</td><td>0.074841</td><td>0.0</td><td>1.0</td><td>7.0</td><td>2.0</td><td>4.0</td><td>0.0</td><td>2.0</td><td>0.0</td><td>0</td><td>0</td><td>0</td><td>0</td><td>0</td><td>125</td><td>125</td><td>null</td><td>null</td><td>null</td><td>null</td><td>null</td><td>null</td><td>null</td><td>null</td><td>null</td><td>null</td><td>null</td><td>null</td><td>null</td><td>null</td><td>null</td><td>null</td><td>null</td><td>null</td><td>2020-02-14 00:49:00</td></tr><tr><td>&hellip;</td><td>&hellip;</td><td>&hellip;</td><td>&hellip;</td><td>&hellip;</td><td>&hellip;</td><td>&hellip;</td><td>&hellip;</td><td>&hellip;</td><td>&hellip;</td><td>&hellip;</td><td>&hellip;</td><td>&hellip;</td><td>&hellip;</td><td>&hellip;</td><td>&hellip;</td><td>&hellip;</td><td>&hellip;</td><td>&hellip;</td><td>&hellip;</td><td>&hellip;</td><td>&hellip;</td><td>&hellip;</td><td>&hellip;</td><td>&hellip;</td><td>&hellip;</td><td>&hellip;</td><td>&hellip;</td><td>&hellip;</td><td>&hellip;</td><td>&hellip;</td><td>&hellip;</td><td>&hellip;</td><td>&hellip;</td><td>&hellip;</td><td>&hellip;</td><td>&hellip;</td><td>&hellip;</td><td>&hellip;</td><td>&hellip;</td><td>&hellip;</td></tr><tr><td>1471959622193876993</td><td>&quot;https://twitte…</td><td>&quot;Big announceme…</td><td>&quot;2021-12-17 21:…</td><td>16665.0</td><td>379.0</td><td>0.022742</td><td>7.0</td><td>1.0</td><td>49.0</td><td>72.0</td><td>153.0</td><td>0.0</td><td>97.0</td><td>0.0</td><td>0</td><td>0</td><td>0</td><td>0</td><td>0</td><td>0</td><td>0</td><td>null</td><td>null</td><td>null</td><td>null</td><td>null</td><td>null</td><td>null</td><td>null</td><td>null</td><td>null</td><td>null</td><td>null</td><td>null</td><td>null</td><td>null</td><td>null</td><td>null</td><td>null</td><td>2021-12-17 21:44:00</td></tr><tr><td>1472235895847735300</td><td>&quot;https://twitte…</td><td>&quot;@GergelyOrosz …</td><td>&quot;2021-12-18 16:…</td><td>4370.0</td><td>21.0</td><td>0.004805</td><td>0.0</td><td>0.0</td><td>7.0</td><td>9.0</td><td>0.0</td><td>0.0</td><td>5.0</td><td>0.0</td><td>0</td><td>0</td><td>0</td><td>0</td><td>0</td><td>0</td><td>0</td><td>null</td><td>null</td><td>null</td><td>null</td><td>null</td><td>null</td><td>null</td><td>null</td><td>null</td><td>null</td><td>null</td><td>null</td><td>null</td><td>null</td><td>null</td><td>null</td><td>null</td><td>null</td><td>2021-12-18 16:02:00</td></tr><tr><td>1472236142414249985</td><td>&quot;https://twitte…</td><td>&quot;Now is the sec…</td><td>&quot;2021-12-18 16:…</td><td>16568.0</td><td>151.0</td><td>0.009114</td><td>1.0</td><td>1.0</td><td>74.0</td><td>22.0</td><td>0.0</td><td>0.0</td><td>53.0</td><td>0.0</td><td>0</td><td>0</td><td>0</td><td>0</td><td>0</td><td>0</td><td>0</td><td>null</td><td>null</td><td>null</td><td>null</td><td>null</td><td>null</td><td>null</td><td>null</td><td>null</td><td>null</td><td>null</td><td>null</td><td>null</td><td>null</td><td>null</td><td>null</td><td>null</td><td>null</td><td>2021-12-18 16:03:00</td></tr><tr><td>1472984046728712193</td><td>&quot;https://twitte…</td><td>&quot;@jeroenhjansse…</td><td>&quot;2021-12-20 17:…</td><td>3167.0</td><td>75.0</td><td>0.023682</td><td>2.0</td><td>3.0</td><td>11.0</td><td>23.0</td><td>0.0</td><td>0.0</td><td>35.0</td><td>0.0</td><td>0</td><td>0</td><td>0</td><td>0</td><td>0</td><td>1</td><td>1</td><td>null</td><td>null</td><td>null</td><td>null</td><td>null</td><td>null</td><td>null</td><td>null</td><td>null</td><td>null</td><td>null</td><td>null</td><td>null</td><td>null</td><td>null</td><td>null</td><td>null</td><td>null</td><td>2021-12-20 17:35:00</td></tr><tr><td>1473005058669244421</td><td>&quot;https://twitte…</td><td>&quot;@PrasoonPratha…</td><td>&quot;2021-12-20 18:…</td><td>2362.0</td><td>23.0</td><td>0.009738</td><td>0.0</td><td>0.0</td><td>13.0</td><td>9.0</td><td>0.0</td><td>0.0</td><td>1.0</td><td>0.0</td><td>0</td><td>0</td><td>0</td><td>0</td><td>0</td><td>0</td><td>0</td><td>null</td><td>null</td><td>null</td><td>null</td><td>null</td><td>null</td><td>null</td><td>null</td><td>null</td><td>null</td><td>null</td><td>null</td><td>null</td><td>null</td><td>null</td><td>null</td><td>null</td><td>null</td><td>2021-12-20 18:59:00</td></tr><tr><td>1473411797256327171</td><td>&quot;https://twitte…</td><td>&quot;@MurodaliRasul…</td><td>&quot;2021-12-21 21:…</td><td>126.0</td><td>21.0</td><td>0.166667</td><td>0.0</td><td>0.0</td><td>6.0</td><td>10.0</td><td>0.0</td><td>0.0</td><td>5.0</td><td>0.0</td><td>0</td><td>0</td><td>0</td><td>0</td><td>0</td><td>0</td><td>0</td><td>null</td><td>null</td><td>null</td><td>null</td><td>null</td><td>null</td><td>null</td><td>null</td><td>null</td><td>null</td><td>null</td><td>null</td><td>null</td><td>null</td><td>null</td><td>null</td><td>null</td><td>null</td><td>2021-12-21 21:55:00</td></tr><tr><td>1474064936330412032</td><td>&quot;https://twitte…</td><td>&quot;@TheGeekyB0y @…</td><td>&quot;2021-12-23 17:…</td><td>123.0</td><td>8.0</td><td>0.065041</td><td>0.0</td><td>0.0</td><td>6.0</td><td>2.0</td><td>0.0</td><td>0.0</td><td>0.0</td><td>0.0</td><td>0</td><td>0</td><td>0</td><td>0</td><td>0</td><td>0</td><td>0</td><td>null</td><td>null</td><td>null</td><td>null</td><td>null</td><td>null</td><td>null</td><td>null</td><td>null</td><td>null</td><td>null</td><td>null</td><td>null</td><td>null</td><td>null</td><td>null</td><td>null</td><td>null</td><td>2021-12-23 17:10:00</td></tr><tr><td>1474745369628065793</td><td>&quot;https://twitte…</td><td>&quot;@swyx Not much…</td><td>&quot;2021-12-25 14:…</td><td>8416.0</td><td>115.0</td><td>0.013664</td><td>1.0</td><td>2.0</td><td>60.0</td><td>20.0</td><td>0.0</td><td>0.0</td><td>32.0</td><td>0.0</td><td>0</td><td>0</td><td>0</td><td>0</td><td>0</td><td>0</td><td>0</td><td>null</td><td>null</td><td>null</td><td>null</td><td>null</td><td>null</td><td>null</td><td>null</td><td>null</td><td>null</td><td>null</td><td>null</td><td>null</td><td>null</td><td>null</td><td>null</td><td>null</td><td>null</td><td>2021-12-25 14:14:00</td></tr><tr><td>1474820707234185217</td><td>&quot;https://twitte…</td><td>&quot;Mele kalikimak…</td><td>&quot;2021-12-25 19:…</td><td>15840.0</td><td>372.0</td><td>0.023485</td><td>0.0</td><td>2.0</td><td>61.0</td><td>59.0</td><td>6.0</td><td>0.0</td><td>66.0</td><td>0.0</td><td>0</td><td>0</td><td>0</td><td>0</td><td>0</td><td>178</td><td>178</td><td>null</td><td>null</td><td>null</td><td>null</td><td>null</td><td>null</td><td>null</td><td>null</td><td>null</td><td>null</td><td>null</td><td>null</td><td>null</td><td>null</td><td>null</td><td>null</td><td>null</td><td>null</td><td>2021-12-25 19:13:00</td></tr><tr><td>1475023008620154882</td><td>&quot;https://twitte…</td><td>&quot;Good looking c…</td><td>&quot;2021-12-26 08:…</td><td>22557.0</td><td>501.0</td><td>0.02221</td><td>0.0</td><td>9.0</td><td>50.0</td><td>89.0</td><td>14.0</td><td>0.0</td><td>118.0</td><td>0.0</td><td>0</td><td>0</td><td>0</td><td>0</td><td>0</td><td>221</td><td>221</td><td>null</td><td>null</td><td>null</td><td>null</td><td>null</td><td>null</td><td>null</td><td>null</td><td>null</td><td>null</td><td>null</td><td>null</td><td>null</td><td>null</td><td>null</td><td>null</td><td>null</td><td>null</td><td>2021-12-26 08:37:00</td></tr><tr><td>1475299401681682434</td><td>&quot;https://twitte…</td><td>&quot;@mathsppblog S…</td><td>&quot;2021-12-27 02:…</td><td>4641.0</td><td>35.0</td><td>0.007541</td><td>0.0</td><td>4.0</td><td>11.0</td><td>10.0</td><td>0.0</td><td>0.0</td><td>10.0</td><td>0.0</td><td>0</td><td>0</td><td>0</td><td>0</td><td>0</td><td>0</td><td>0</td><td>null</td><td>null</td><td>null</td><td>null</td><td>null</td><td>null</td><td>null</td><td>null</td><td>null</td><td>null</td><td>null</td><td>null</td><td>null</td><td>null</td><td>null</td><td>null</td><td>null</td><td>null</td><td>2021-12-27 02:56:00</td></tr><tr><td>1477024722051158018</td><td>&quot;https://twitte…</td><td>&quot;@tunguz Xgboos…</td><td>&quot;2021-12-31 21:…</td><td>5041.0</td><td>63.0</td><td>0.012498</td><td>0.0</td><td>3.0</td><td>23.0</td><td>8.0</td><td>0.0</td><td>0.0</td><td>29.0</td><td>0.0</td><td>0</td><td>0</td><td>0</td><td>0</td><td>0</td><td>0</td><td>0</td><td>null</td><td>null</td><td>null</td><td>null</td><td>null</td><td>null</td><td>null</td><td>null</td><td>null</td><td>null</td><td>null</td><td>null</td><td>null</td><td>null</td><td>null</td><td>null</td><td>null</td><td>null</td><td>2021-12-31 21:11:00</td></tr></tbody></table></div>"
      ],
      "text/plain": [
       "shape: (1_103, 41)\n",
       "┌───────────┬───────────┬───────────┬───────────┬───┬───────────┬───────────┬───────────┬──────────┐\n",
       "│ Tweet id  ┆ Tweet     ┆ Tweet     ┆ time      ┆ … ┆ promoted  ┆ promoted  ┆ promoted  ┆ time_dt  │\n",
       "│ ---       ┆ permalink ┆ text      ┆ ---       ┆   ┆ dial      ┆ media     ┆ media eng ┆ ---      │\n",
       "│ i64       ┆ ---       ┆ ---       ┆ str       ┆   ┆ phone     ┆ views     ┆ agements  ┆ datetime │\n",
       "│           ┆ str       ┆ str       ┆           ┆   ┆ ---       ┆ ---       ┆ ---       ┆ [μs]     │\n",
       "│           ┆           ┆           ┆           ┆   ┆ str       ┆ str       ┆ str       ┆          │\n",
       "╞═══════════╪═══════════╪═══════════╪═══════════╪═══╪═══════════╪═══════════╪═══════════╪══════════╡\n",
       "│ 121420065 ┆ https://t ┆ I'll say  ┆ 2020-01-0 ┆ … ┆ null      ┆ null      ┆ null      ┆ 2020-01- │\n",
       "│ 305823232 ┆ witter.co ┆ it again. ┆ 6 15:02:0 ┆   ┆           ┆           ┆           ┆ 06       │\n",
       "│ 0         ┆ m/__mharr ┆ More      ┆ 0+00:00   ┆   ┆           ┆           ┆           ┆ 15:02:00 │\n",
       "│           ┆ ison_…    ┆ companie… ┆           ┆   ┆           ┆           ┆           ┆          │\n",
       "│ 121431493 ┆ https://t ┆ Some      ┆ 2020-01-0 ┆ … ┆ null      ┆ null      ┆ null      ┆ 2020-01- │\n",
       "│ 783042867 ┆ witter.co ┆ advice as ┆ 6 22:36:0 ┆   ┆           ┆           ┆           ┆ 06       │\n",
       "│ 3         ┆ m/__mharr ┆ you come  ┆ 0+00:00   ┆   ┆           ┆           ┆           ┆ 22:36:00 │\n",
       "│           ┆ ison_…    ┆ across g… ┆           ┆   ┆           ┆           ┆           ┆          │\n",
       "│ 121494816 ┆ https://t ┆ @ProfTrac ┆ 2020-01-0 ┆ … ┆ null      ┆ null      ┆ null      ┆ 2020-01- │\n",
       "│ 236583731 ┆ witter.co ┆ yPearl    ┆ 8 16:33:0 ┆   ┆           ┆           ┆           ┆ 08       │\n",
       "│ 2         ┆ m/__mharr ┆ Here's    ┆ 0+00:00   ┆   ┆           ┆           ┆           ┆ 16:33:00 │\n",
       "│           ┆ ison_…    ┆ some      ┆           ┆   ┆           ┆           ┆           ┆          │\n",
       "│           ┆           ┆ feed…     ┆           ┆   ┆           ┆           ┆           ┆          │\n",
       "│ 121511993 ┆ https://t ┆ Great     ┆ 2020-01-0 ┆ … ┆ null      ┆ null      ┆ null      ┆ 2020-01- │\n",
       "│ 729281638 ┆ witter.co ┆ talk by   ┆ 9 03:55:0 ┆   ┆           ┆           ┆           ┆ 09       │\n",
       "│ 4         ┆ m/__mharr ┆ @data_che ┆ 0+00:00   ┆   ┆           ┆           ┆           ┆ 03:55:00 │\n",
       "│           ┆ ison_…    ┆ eves      ┆           ┆   ┆           ┆           ┆           ┆          │\n",
       "│           ┆           ┆ @SLC…     ┆           ┆   ┆           ┆           ┆           ┆          │\n",
       "│ 121753951 ┆ https://t ┆ Lots of   ┆ 2020-01-1 ┆ … ┆ null      ┆ null      ┆ null      ┆ 2020-01- │\n",
       "│ 304973516 ┆ witter.co ┆ training  ┆ 5 20:10:0 ┆   ┆           ┆           ┆           ┆ 15       │\n",
       "│ 8         ┆ m/__mharr ┆ coming up ┆ 0+00:00   ┆   ┆           ┆           ┆           ┆ 20:10:00 │\n",
       "│           ┆ ison_…    ┆ in th…    ┆           ┆   ┆           ┆           ┆           ┆          │\n",
       "│ …         ┆ …         ┆ …         ┆ …         ┆ … ┆ …         ┆ …         ┆ …         ┆ …        │\n",
       "│ 147474536 ┆ https://t ┆ @swyx Not ┆ 2021-12-2 ┆ … ┆ null      ┆ null      ┆ null      ┆ 2021-12- │\n",
       "│ 962806579 ┆ witter.co ┆ much.     ┆ 5 14:14:0 ┆   ┆           ┆           ┆           ┆ 25       │\n",
       "│ 3         ┆ m/__mharr ┆ People    ┆ 0+00:00   ┆   ┆           ┆           ┆           ┆ 14:14:00 │\n",
       "│           ┆ ison_…    ┆ were      ┆           ┆   ┆           ┆           ┆           ┆          │\n",
       "│           ┆           ┆ doin…     ┆           ┆   ┆           ┆           ┆           ┆          │\n",
       "│ 147482070 ┆ https://t ┆ Mele kali ┆ 2021-12-2 ┆ … ┆ null      ┆ null      ┆ null      ┆ 2021-12- │\n",
       "│ 723418521 ┆ witter.co ┆ kimaka!   ┆ 5 19:13:0 ┆   ┆           ┆           ┆           ┆ 25       │\n",
       "│ 7         ┆ m/__mharr ┆ 🌴🎅      ┆ 0+00:00   ┆   ┆           ┆           ┆           ┆ 19:13:00 │\n",
       "│           ┆ ison_…    ┆           ┆           ┆   ┆           ┆           ┆           ┆          │\n",
       "│           ┆           ┆ I hope    ┆           ┆   ┆           ┆           ┆           ┆          │\n",
       "│           ┆           ┆ you …     ┆           ┆   ┆           ┆           ┆           ┆          │\n",
       "│ 147502300 ┆ https://t ┆ Good      ┆ 2021-12-2 ┆ … ┆ null      ┆ null      ┆ null      ┆ 2021-12- │\n",
       "│ 862015488 ┆ witter.co ┆ looking   ┆ 6 08:37:0 ┆   ┆           ┆           ┆           ┆ 26       │\n",
       "│ 2         ┆ m/__mharr ┆ crew! htt ┆ 0+00:00   ┆   ┆           ┆           ┆           ┆ 08:37:00 │\n",
       "│           ┆ ison_…    ┆ ps://t.co ┆           ┆   ┆           ┆           ┆           ┆          │\n",
       "│           ┆           ┆ /…        ┆           ┆   ┆           ┆           ┆           ┆          │\n",
       "│ 147529940 ┆ https://t ┆ @mathsppb ┆ 2021-12-2 ┆ … ┆ null      ┆ null      ┆ null      ┆ 2021-12- │\n",
       "│ 168168243 ┆ witter.co ┆ log       ┆ 7 02:56:0 ┆   ┆           ┆           ┆           ┆ 27       │\n",
       "│ 4         ┆ m/__mharr ┆ Single    ┆ 0+00:00   ┆   ┆           ┆           ┆           ┆ 02:56:00 │\n",
       "│           ┆ ison_…    ┆ quotes.   ┆           ┆   ┆           ┆           ┆           ┆          │\n",
       "│           ┆           ┆ One …     ┆           ┆   ┆           ┆           ┆           ┆          │\n",
       "│ 147702472 ┆ https://t ┆ @tunguz   ┆ 2021-12-3 ┆ … ┆ null      ┆ null      ┆ null      ┆ 2021-12- │\n",
       "│ 205115801 ┆ witter.co ┆ Xgboost   ┆ 1 21:11:0 ┆   ┆           ┆           ┆           ┆ 31       │\n",
       "│ 8         ┆ m/__mharr ┆           ┆ 0+00:00   ┆   ┆           ┆           ┆           ┆ 21:11:00 │\n",
       "│           ┆ ison_…    ┆           ┆           ┆   ┆           ┆           ┆           ┆          │\n",
       "└───────────┴───────────┴───────────┴───────────┴───┴───────────┴───────────┴───────────┴──────────┘"
      ]
     },
     "execution_count": 28,
     "metadata": {},
     "output_type": "execute_result"
    }
   ],
   "source": [
    "# Get all the rows when the tweets' likes are at least 5\n",
    "df.filter(pl.col('likes')>5)"
   ]
  },
  {
   "cell_type": "code",
   "execution_count": 29,
   "metadata": {},
   "outputs": [
    {
     "data": {
      "text/plain": [
       "1536"
      ]
     },
     "execution_count": 29,
     "metadata": {},
     "output_type": "execute_result"
    }
   ],
   "source": [
    "# Count the amount of Tweets that have at least 3 likes\n",
    "len(df.filter(pl.col('likes')>3))"
   ]
  },
  {
   "cell_type": "markdown",
   "metadata": {},
   "source": [
    "## Nested lists"
   ]
  },
  {
   "cell_type": "code",
   "execution_count": 31,
   "metadata": {},
   "outputs": [
    {
     "data": {
      "text/html": [
       "<div><style>\n",
       ".dataframe > thead > tr,\n",
       ".dataframe > tbody > tr {\n",
       "  text-align: right;\n",
       "  white-space: pre-wrap;\n",
       "}\n",
       "</style>\n",
       "<small>shape: (5,)</small><table border=\"1\" class=\"dataframe\"><thead><tr><th>time</th></tr><tr><td>str</td></tr></thead><tbody><tr><td>&quot;2020-01-02 03:…</td></tr><tr><td>&quot;2020-01-02 03:…</td></tr><tr><td>&quot;2020-01-02 05:…</td></tr><tr><td>&quot;2020-01-03 01:…</td></tr><tr><td>&quot;2020-01-03 02:…</td></tr></tbody></table></div>"
      ],
      "text/plain": [
       "shape: (5,)\n",
       "Series: 'time' [str]\n",
       "[\n",
       "\t\"2020-01-02 03:…\n",
       "\t\"2020-01-02 03:…\n",
       "\t\"2020-01-02 05:…\n",
       "\t\"2020-01-03 01:…\n",
       "\t\"2020-01-03 02:…\n",
       "]"
      ]
     },
     "execution_count": 31,
     "metadata": {},
     "output_type": "execute_result"
    }
   ],
   "source": [
    "# Convert the following using polars methods only\n",
    "# Time has this structure - 2020-01-02 03:44:00+00:00\n",
    "# df.head()['time'].apply(lambda time: time.split('+')[0])\n",
    "df.head()['time'].str.split('+').list.get(0)"
   ]
  },
  {
   "cell_type": "markdown",
   "metadata": {},
   "source": [
    "## Time"
   ]
  },
  {
   "cell_type": "code",
   "execution_count": 35,
   "metadata": {},
   "outputs": [
    {
     "data": {
      "text/html": [
       "<div><style>\n",
       ".dataframe > thead > tr,\n",
       ".dataframe > tbody > tr {\n",
       "  text-align: right;\n",
       "  white-space: pre-wrap;\n",
       "}\n",
       "</style>\n",
       "<small>shape: (5,)</small><table border=\"1\" class=\"dataframe\"><thead><tr><th>time</th></tr><tr><td>datetime[μs]</td></tr></thead><tbody><tr><td>2020-01-02 03:44:00</td></tr><tr><td>2020-01-02 03:52:00</td></tr><tr><td>2020-01-02 05:56:00</td></tr><tr><td>2020-01-03 01:41:00</td></tr><tr><td>2020-01-03 02:16:00</td></tr></tbody></table></div>"
      ],
      "text/plain": [
       "shape: (5,)\n",
       "Series: 'time' [datetime[μs]]\n",
       "[\n",
       "\t2020-01-02 03:44:00\n",
       "\t2020-01-02 03:52:00\n",
       "\t2020-01-02 05:56:00\n",
       "\t2020-01-03 01:41:00\n",
       "\t2020-01-03 02:16:00\n",
       "]"
      ]
     },
     "execution_count": 35,
     "metadata": {},
     "output_type": "execute_result"
    }
   ],
   "source": [
    "# Convert to Datetime\n",
    "df.head()['time'].str.split('+').list.get(0).str.strptime(pl.Datetime, '%Y-%m-%d %H:%M:%S')"
   ]
  },
  {
   "cell_type": "code",
   "execution_count": 36,
   "metadata": {},
   "outputs": [],
   "source": [
    "# Insert the results to the dataframe with the name time_dt\n",
    "df = df.with_columns(\n",
    "    pl.col(\"time\")\n",
    "    .str.split(\"+\")\n",
    "    .list.get(0)\n",
    "    .str.strptime(pl.Datetime, \"%Y-%m-%d %H:%M:%S\")\n",
    "    .alias(\"time_dt\")\n",
    ")"
   ]
  },
  {
   "cell_type": "code",
   "execution_count": 37,
   "metadata": {},
   "outputs": [
    {
     "data": {
      "text/html": [
       "<div><style>\n",
       ".dataframe > thead > tr,\n",
       ".dataframe > tbody > tr {\n",
       "  text-align: right;\n",
       "  white-space: pre-wrap;\n",
       "}\n",
       "</style>\n",
       "<small>shape: (5_791,)</small><table border=\"1\" class=\"dataframe\"><thead><tr><th>time_dt</th></tr><tr><td>i8</td></tr></thead><tbody><tr><td>1</td></tr><tr><td>1</td></tr><tr><td>1</td></tr><tr><td>1</td></tr><tr><td>1</td></tr><tr><td>1</td></tr><tr><td>1</td></tr><tr><td>1</td></tr><tr><td>1</td></tr><tr><td>1</td></tr><tr><td>1</td></tr><tr><td>1</td></tr><tr><td>&hellip;</td></tr><tr><td>12</td></tr><tr><td>12</td></tr><tr><td>12</td></tr><tr><td>12</td></tr><tr><td>12</td></tr><tr><td>12</td></tr><tr><td>12</td></tr><tr><td>12</td></tr><tr><td>12</td></tr><tr><td>12</td></tr><tr><td>12</td></tr><tr><td>12</td></tr></tbody></table></div>"
      ],
      "text/plain": [
       "shape: (5_791,)\n",
       "Series: 'time_dt' [i8]\n",
       "[\n",
       "\t1\n",
       "\t1\n",
       "\t1\n",
       "\t1\n",
       "\t1\n",
       "\t1\n",
       "\t1\n",
       "\t1\n",
       "\t1\n",
       "\t1\n",
       "\t1\n",
       "\t1\n",
       "\t…\n",
       "\t12\n",
       "\t12\n",
       "\t12\n",
       "\t12\n",
       "\t12\n",
       "\t12\n",
       "\t12\n",
       "\t12\n",
       "\t12\n",
       "\t12\n",
       "\t12\n",
       "\t12\n",
       "\t12\n",
       "]"
      ]
     },
     "execution_count": 37,
     "metadata": {},
     "output_type": "execute_result"
    }
   ],
   "source": [
    "# * Create a series with the months of the *time* column\n",
    "df['time_dt'].dt.month()"
   ]
  },
  {
   "cell_type": "markdown",
   "metadata": {},
   "source": [
    "## Groups"
   ]
  },
  {
   "cell_type": "code",
   "execution_count": 19,
   "metadata": {},
   "outputs": [
    {
     "name": "stderr",
     "output_type": "stream",
     "text": [
      "/var/folders/2q/s4g24yvj5bx_ns861n34fy9w0000gp/T/ipykernel_78450/1433680341.py:2: DeprecationWarning: `groupby` is deprecated. It has been renamed to `group_by`.\n",
      "  df.groupby(pl.col('time_dt').dt.month().alias('month')).mean()\n"
     ]
    },
    {
     "data": {
      "text/html": [
       "<div><style>\n",
       ".dataframe > thead > tr,\n",
       ".dataframe > tbody > tr {\n",
       "  text-align: right;\n",
       "  white-space: pre-wrap;\n",
       "}\n",
       "</style>\n",
       "<small>shape: (12, 42)</small><table border=\"1\" class=\"dataframe\"><thead><tr><th>month</th><th>Tweet id</th><th>Tweet permalink</th><th>Tweet text</th><th>time</th><th>impressions</th><th>engagements</th><th>engagement rate</th><th>retweets</th><th>replies</th><th>likes</th><th>user profile clicks</th><th>url clicks</th><th>hashtag clicks</th><th>detail expands</th><th>permalink clicks</th><th>app opens</th><th>app installs</th><th>follows</th><th>email tweet</th><th>dial phone</th><th>media views</th><th>media engagements</th><th>promoted impressions</th><th>promoted engagements</th><th>promoted engagement rate</th><th>promoted retweets</th><th>promoted replies</th><th>promoted likes</th><th>promoted user profile clicks</th><th>promoted url clicks</th><th>promoted hashtag clicks</th><th>promoted detail expands</th><th>promoted permalink clicks</th><th>promoted app opens</th><th>promoted app installs</th><th>promoted follows</th><th>promoted email tweet</th><th>promoted dial phone</th><th>promoted media views</th><th>promoted media engagements</th><th>time_dt</th></tr><tr><td>i8</td><td>f64</td><td>str</td><td>str</td><td>str</td><td>f64</td><td>f64</td><td>f64</td><td>f64</td><td>f64</td><td>f64</td><td>f64</td><td>f64</td><td>f64</td><td>f64</td><td>f64</td><td>f64</td><td>f64</td><td>f64</td><td>f64</td><td>f64</td><td>f64</td><td>f64</td><td>str</td><td>str</td><td>str</td><td>str</td><td>str</td><td>str</td><td>str</td><td>str</td><td>str</td><td>str</td><td>str</td><td>str</td><td>str</td><td>str</td><td>str</td><td>str</td><td>str</td><td>str</td><td>datetime[μs]</td></tr></thead><tbody><tr><td>3</td><td>1.3348e18</td><td>null</td><td>null</td><td>null</td><td>1267.595463</td><td>81.992439</td><td>0.039615</td><td>0.459357</td><td>1.034026</td><td>4.586011</td><td>8.285444</td><td>2.073724</td><td>0.009452</td><td>30.803403</td><td>0.0</td><td>0.0</td><td>0.0</td><td>0.032136</td><td>0.0</td><td>0.0</td><td>34.952741</td><td>34.708885</td><td>null</td><td>null</td><td>null</td><td>null</td><td>null</td><td>null</td><td>null</td><td>null</td><td>null</td><td>null</td><td>null</td><td>null</td><td>null</td><td>null</td><td>null</td><td>null</td><td>null</td><td>null</td><td>2020-12-04 09:41:40.378071</td></tr><tr><td>9</td><td>1.3862e18</td><td>null</td><td>null</td><td>null</td><td>2660.571146</td><td>120.501976</td><td>0.034792</td><td>0.897233</td><td>1.282609</td><td>10.956522</td><td>23.029644</td><td>4.986166</td><td>0.017787</td><td>48.642292</td><td>0.0</td><td>0.0</td><td>0.0</td><td>0.116601</td><td>0.0</td><td>0.0</td><td>30.573123</td><td>30.573123</td><td>null</td><td>null</td><td>null</td><td>null</td><td>null</td><td>null</td><td>null</td><td>null</td><td>null</td><td>null</td><td>null</td><td>null</td><td>null</td><td>null</td><td>null</td><td>null</td><td>null</td><td>null</td><td>2021-04-25 06:15:43.754940</td></tr><tr><td>12</td><td>1.3966e18</td><td>null</td><td>null</td><td>null</td><td>2295.978479</td><td>76.110473</td><td>0.033693</td><td>1.688666</td><td>1.147776</td><td>6.579627</td><td>7.539455</td><td>5.804878</td><td>0.034433</td><td>20.578192</td><td>0.0</td><td>0.0</td><td>0.0</td><td>0.021521</td><td>0.0</td><td>0.0</td><td>31.833572</td><td>31.789096</td><td>null</td><td>null</td><td>null</td><td>null</td><td>null</td><td>null</td><td>null</td><td>null</td><td>null</td><td>null</td><td>null</td><td>null</td><td>null</td><td>null</td><td>null</td><td>null</td><td>null</td><td>null</td><td>2021-05-23 19:59:11.793400</td></tr><tr><td>6</td><td>1.3517e18</td><td>null</td><td>null</td><td>null</td><td>3892.032154</td><td>213.14791</td><td>0.037062</td><td>2.025723</td><td>1.18328</td><td>20.572347</td><td>65.360129</td><td>3.588424</td><td>0.016077</td><td>58.125402</td><td>0.0</td><td>0.0</td><td>0.0</td><td>0.488746</td><td>0.0</td><td>0.0</td><td>61.787781</td><td>61.787781</td><td>null</td><td>null</td><td>null</td><td>null</td><td>null</td><td>null</td><td>null</td><td>null</td><td>null</td><td>null</td><td>null</td><td>null</td><td>null</td><td>null</td><td>null</td><td>null</td><td>null</td><td>null</td><td>2021-01-20 01:22:25.852090</td></tr><tr><td>10</td><td>1.3820e18</td><td>null</td><td>null</td><td>null</td><td>2525.913793</td><td>102.4</td><td>0.033397</td><td>0.977586</td><td>1.536207</td><td>10.175862</td><td>15.231034</td><td>2.874138</td><td>0.001724</td><td>45.25</td><td>0.0</td><td>0.0</td><td>0.0</td><td>0.124138</td><td>0.0</td><td>0.0</td><td>26.053448</td><td>26.053448</td><td>null</td><td>null</td><td>null</td><td>null</td><td>null</td><td>null</td><td>null</td><td>null</td><td>null</td><td>null</td><td>null</td><td>null</td><td>null</td><td>null</td><td>null</td><td>null</td><td>null</td><td>null</td><td>2021-04-13 13:47:52.344827</td></tr><tr><td>7</td><td>1.3434e18</td><td>null</td><td>null</td><td>null</td><td>6302.872881</td><td>356.216102</td><td>0.031589</td><td>2.762712</td><td>1.690678</td><td>31.224576</td><td>104.271186</td><td>6.29661</td><td>0.004237</td><td>105.330508</td><td>0.0</td><td>0.0</td><td>0.0</td><td>0.822034</td><td>0.0</td><td>0.0</td><td>103.427966</td><td>103.427966</td><td>null</td><td>null</td><td>null</td><td>null</td><td>null</td><td>null</td><td>null</td><td>null</td><td>null</td><td>null</td><td>null</td><td>null</td><td>null</td><td>null</td><td>null</td><td>null</td><td>null</td><td>null</td><td>2020-12-28 05:44:19.067796</td></tr><tr><td>1</td><td>1.3331e18</td><td>null</td><td>null</td><td>null</td><td>954.377232</td><td>44.872768</td><td>0.03394</td><td>0.361607</td><td>0.698661</td><td>3.310268</td><td>3.698661</td><td>4.819196</td><td>0.020089</td><td>14.015625</td><td>0.0</td><td>0.0</td><td>0.0</td><td>0.002232</td><td>0.0</td><td>0.0</td><td>18.763393</td><td>17.100446</td><td>null</td><td>null</td><td>null</td><td>null</td><td>null</td><td>null</td><td>null</td><td>null</td><td>null</td><td>null</td><td>null</td><td>null</td><td>null</td><td>null</td><td>null</td><td>null</td><td>null</td><td>null</td><td>2020-11-29 17:06:17.410714</td></tr><tr><td>4</td><td>1.3234e18</td><td>null</td><td>null</td><td>null</td><td>1508.936015</td><td>60.340037</td><td>0.030917</td><td>0.561243</td><td>0.767824</td><td>5.329068</td><td>8.511883</td><td>3.941499</td><td>0.032907</td><td>19.171846</td><td>0.0</td><td>0.005484</td><td>0.0</td><td>0.032907</td><td>0.0</td><td>0.0</td><td>21.921389</td><td>21.919561</td><td>null</td><td>null</td><td>null</td><td>null</td><td>null</td><td>null</td><td>null</td><td>null</td><td>null</td><td>null</td><td>null</td><td>null</td><td>null</td><td>null</td><td>null</td><td>null</td><td>null</td><td>null</td><td>2020-11-03 01:37:13.601462</td></tr><tr><td>2</td><td>1.3343e18</td><td>null</td><td>null</td><td>null</td><td>1166.060403</td><td>65.944072</td><td>0.033558</td><td>0.346756</td><td>0.814318</td><td>3.809843</td><td>7.66443</td><td>2.071588</td><td>0.0</td><td>22.454139</td><td>0.0</td><td>0.0</td><td>0.0</td><td>0.004474</td><td>0.0</td><td>0.0</td><td>28.512304</td><td>28.512304</td><td>null</td><td>null</td><td>null</td><td>null</td><td>null</td><td>null</td><td>null</td><td>null</td><td>null</td><td>null</td><td>null</td><td>null</td><td>null</td><td>null</td><td>null</td><td>null</td><td>null</td><td>null</td><td>2020-12-02 21:59:32.885906</td></tr><tr><td>5</td><td>1.3412e18</td><td>null</td><td>null</td><td>null</td><td>1759.190141</td><td>83.274648</td><td>0.038736</td><td>0.63615</td><td>0.899061</td><td>7.014085</td><td>17.058685</td><td>3.922535</td><td>0.056338</td><td>25.521127</td><td>0.0</td><td>0.0</td><td>0.0</td><td>0.140845</td><td>0.0</td><td>0.0</td><td>28.025822</td><td>28.025822</td><td>null</td><td>null</td><td>null</td><td>null</td><td>null</td><td>null</td><td>null</td><td>null</td><td>null</td><td>null</td><td>null</td><td>null</td><td>null</td><td>null</td><td>null</td><td>null</td><td>null</td><td>null</td><td>2020-12-21 23:13:17.042253</td></tr><tr><td>11</td><td>1.3936e18</td><td>null</td><td>null</td><td>null</td><td>2595.855134</td><td>125.161744</td><td>0.034865</td><td>0.706048</td><td>1.098453</td><td>10.196906</td><td>18.001406</td><td>7.583685</td><td>0.021097</td><td>24.807314</td><td>0.0</td><td>0.004219</td><td>0.0</td><td>0.151899</td><td>0.0</td><td>0.0</td><td>62.309423</td><td>62.309423</td><td>null</td><td>null</td><td>null</td><td>null</td><td>null</td><td>null</td><td>null</td><td>null</td><td>null</td><td>null</td><td>null</td><td>null</td><td>null</td><td>null</td><td>null</td><td>null</td><td>null</td><td>null</td><td>2021-05-15 19:12:18.987341</td></tr><tr><td>8</td><td>1.3545e18</td><td>null</td><td>null</td><td>null</td><td>3278.747875</td><td>200.926346</td><td>0.035194</td><td>1.569405</td><td>1.691218</td><td>16.643059</td><td>40.787535</td><td>5.195467</td><td>0.008499</td><td>59.385269</td><td>0.0</td><td>0.0</td><td>0.0</td><td>0.252125</td><td>0.0</td><td>0.0</td><td>75.393768</td><td>75.393768</td><td>null</td><td>null</td><td>null</td><td>null</td><td>null</td><td>null</td><td>null</td><td>null</td><td>null</td><td>null</td><td>null</td><td>null</td><td>null</td><td>null</td><td>null</td><td>null</td><td>null</td><td>null</td><td>2021-01-27 15:55:33.144476</td></tr></tbody></table></div>"
      ],
      "text/plain": [
       "shape: (12, 42)\n",
       "┌───────┬───────────┬─────────────┬───────┬───┬─────────────┬────────────┬────────────┬────────────┐\n",
       "│ month ┆ Tweet id  ┆ Tweet       ┆ Tweet ┆ … ┆ promoted    ┆ promoted   ┆ promoted   ┆ time_dt    │\n",
       "│ ---   ┆ ---       ┆ permalink   ┆ text  ┆   ┆ dial phone  ┆ media      ┆ media enga ┆ ---        │\n",
       "│ i8    ┆ f64       ┆ ---         ┆ ---   ┆   ┆ ---         ┆ views      ┆ gements    ┆ datetime[μ │\n",
       "│       ┆           ┆ str         ┆ str   ┆   ┆ str         ┆ ---        ┆ ---        ┆ s]         │\n",
       "│       ┆           ┆             ┆       ┆   ┆             ┆ str        ┆ str        ┆            │\n",
       "╞═══════╪═══════════╪═════════════╪═══════╪═══╪═════════════╪════════════╪════════════╪════════════╡\n",
       "│ 3     ┆ 1.3348e18 ┆ null        ┆ null  ┆ … ┆ null        ┆ null       ┆ null       ┆ 2020-12-04 │\n",
       "│       ┆           ┆             ┆       ┆   ┆             ┆            ┆            ┆ 09:41:40.3 │\n",
       "│       ┆           ┆             ┆       ┆   ┆             ┆            ┆            ┆ 78071      │\n",
       "│ 9     ┆ 1.3862e18 ┆ null        ┆ null  ┆ … ┆ null        ┆ null       ┆ null       ┆ 2021-04-25 │\n",
       "│       ┆           ┆             ┆       ┆   ┆             ┆            ┆            ┆ 06:15:43.7 │\n",
       "│       ┆           ┆             ┆       ┆   ┆             ┆            ┆            ┆ 54940      │\n",
       "│ 12    ┆ 1.3966e18 ┆ null        ┆ null  ┆ … ┆ null        ┆ null       ┆ null       ┆ 2021-05-23 │\n",
       "│       ┆           ┆             ┆       ┆   ┆             ┆            ┆            ┆ 19:59:11.7 │\n",
       "│       ┆           ┆             ┆       ┆   ┆             ┆            ┆            ┆ 93400      │\n",
       "│ 6     ┆ 1.3517e18 ┆ null        ┆ null  ┆ … ┆ null        ┆ null       ┆ null       ┆ 2021-01-20 │\n",
       "│       ┆           ┆             ┆       ┆   ┆             ┆            ┆            ┆ 01:22:25.8 │\n",
       "│       ┆           ┆             ┆       ┆   ┆             ┆            ┆            ┆ 52090      │\n",
       "│ 10    ┆ 1.3820e18 ┆ null        ┆ null  ┆ … ┆ null        ┆ null       ┆ null       ┆ 2021-04-13 │\n",
       "│       ┆           ┆             ┆       ┆   ┆             ┆            ┆            ┆ 13:47:52.3 │\n",
       "│       ┆           ┆             ┆       ┆   ┆             ┆            ┆            ┆ 44827      │\n",
       "│ …     ┆ …         ┆ …           ┆ …     ┆ … ┆ …           ┆ …          ┆ …          ┆ …          │\n",
       "│ 4     ┆ 1.3234e18 ┆ null        ┆ null  ┆ … ┆ null        ┆ null       ┆ null       ┆ 2020-11-03 │\n",
       "│       ┆           ┆             ┆       ┆   ┆             ┆            ┆            ┆ 01:37:13.6 │\n",
       "│       ┆           ┆             ┆       ┆   ┆             ┆            ┆            ┆ 01462      │\n",
       "│ 2     ┆ 1.3343e18 ┆ null        ┆ null  ┆ … ┆ null        ┆ null       ┆ null       ┆ 2020-12-02 │\n",
       "│       ┆           ┆             ┆       ┆   ┆             ┆            ┆            ┆ 21:59:32.8 │\n",
       "│       ┆           ┆             ┆       ┆   ┆             ┆            ┆            ┆ 85906      │\n",
       "│ 5     ┆ 1.3412e18 ┆ null        ┆ null  ┆ … ┆ null        ┆ null       ┆ null       ┆ 2020-12-21 │\n",
       "│       ┆           ┆             ┆       ┆   ┆             ┆            ┆            ┆ 23:13:17.0 │\n",
       "│       ┆           ┆             ┆       ┆   ┆             ┆            ┆            ┆ 42253      │\n",
       "│ 11    ┆ 1.3936e18 ┆ null        ┆ null  ┆ … ┆ null        ┆ null       ┆ null       ┆ 2021-05-15 │\n",
       "│       ┆           ┆             ┆       ┆   ┆             ┆            ┆            ┆ 19:12:18.9 │\n",
       "│       ┆           ┆             ┆       ┆   ┆             ┆            ┆            ┆ 87341      │\n",
       "│ 8     ┆ 1.3545e18 ┆ null        ┆ null  ┆ … ┆ null        ┆ null       ┆ null       ┆ 2021-01-27 │\n",
       "│       ┆           ┆             ┆       ┆   ┆             ┆            ┆            ┆ 15:55:33.1 │\n",
       "│       ┆           ┆             ┆       ┆   ┆             ┆            ┆            ┆ 44476      │\n",
       "└───────┴───────────┴─────────────┴───────┴───┴─────────────┴────────────┴────────────┴────────────┘"
      ]
     },
     "execution_count": 19,
     "metadata": {},
     "output_type": "execute_result"
    }
   ],
   "source": [
    "# For each column get the average for each month\n",
    "df.groupby(pl.col('time_dt').dt.month().alias('month')).mean()"
   ]
  },
  {
   "cell_type": "code",
   "execution_count": 20,
   "metadata": {},
   "outputs": [
    {
     "name": "stderr",
     "output_type": "stream",
     "text": [
      "/var/folders/2q/s4g24yvj5bx_ns861n34fy9w0000gp/T/ipykernel_78450/2387668596.py:3: DeprecationWarning: `groupby` is deprecated. It has been renamed to `group_by`.\n",
      "  (df.groupby([\n"
     ]
    },
    {
     "data": {
      "text/html": [
       "<div><style>\n",
       ".dataframe > thead > tr,\n",
       ".dataframe > tbody > tr {\n",
       "  text-align: right;\n",
       "  white-space: pre-wrap;\n",
       "}\n",
       "</style>\n",
       "<small>shape: (24, 4)</small><table border=\"1\" class=\"dataframe\"><thead><tr><th>year</th><th>month</th><th>impressions</th><th>engagements</th></tr><tr><td>i32</td><td>i8</td><td>f64</td><td>f64</td></tr></thead><tbody><tr><td>2020</td><td>1</td><td>1487.65</td><td>63.4</td></tr><tr><td>2020</td><td>2</td><td>1171.571429</td><td>38.450549</td></tr><tr><td>2020</td><td>3</td><td>861.493243</td><td>44.641892</td></tr><tr><td>2020</td><td>4</td><td>1018.598394</td><td>46.128514</td></tr><tr><td>2020</td><td>5</td><td>773.646707</td><td>26.538922</td></tr><tr><td>2020</td><td>6</td><td>918.264</td><td>43.192</td></tr><tr><td>2020</td><td>7</td><td>1211.015504</td><td>50.0</td></tr><tr><td>2020</td><td>8</td><td>945.370558</td><td>49.258883</td></tr><tr><td>2020</td><td>9</td><td>1107.049505</td><td>52.054455</td></tr><tr><td>2020</td><td>10</td><td>890.494949</td><td>34.343434</td></tr><tr><td>2020</td><td>11</td><td>1162.487465</td><td>101.938719</td></tr><tr><td>2020</td><td>12</td><td>991.404639</td><td>64.471649</td></tr><tr><td>2021</td><td>1</td><td>871.912371</td><td>42.007732</td></tr><tr><td>2021</td><td>2</td><td>1164.651685</td><td>72.97191</td></tr><tr><td>2021</td><td>3</td><td>1425.346457</td><td>96.501312</td></tr><tr><td>2021</td><td>4</td><td>1918.647651</td><td>72.214765</td></tr><tr><td>2021</td><td>5</td><td>2394.656371</td><td>119.857143</td></tr><tr><td>2021</td><td>6</td><td>5890.532258</td><td>327.365591</td></tr><tr><td>2021</td><td>7</td><td>12441.654206</td><td>725.392523</td></tr><tr><td>2021</td><td>8</td><td>6225.384615</td><td>392.455128</td></tr><tr><td>2021</td><td>9</td><td>3692.845395</td><td>165.983553</td></tr><tr><td>2021</td><td>10</td><td>4242.236749</td><td>173.823322</td></tr><tr><td>2021</td><td>11</td><td>4057.727273</td><td>148.846591</td></tr><tr><td>2021</td><td>12</td><td>3934.084142</td><td>90.724919</td></tr></tbody></table></div>"
      ],
      "text/plain": [
       "shape: (24, 4)\n",
       "┌──────┬───────┬─────────────┬─────────────┐\n",
       "│ year ┆ month ┆ impressions ┆ engagements │\n",
       "│ ---  ┆ ---   ┆ ---         ┆ ---         │\n",
       "│ i32  ┆ i8    ┆ f64         ┆ f64         │\n",
       "╞══════╪═══════╪═════════════╪═════════════╡\n",
       "│ 2020 ┆ 1     ┆ 1487.65     ┆ 63.4        │\n",
       "│ 2020 ┆ 2     ┆ 1171.571429 ┆ 38.450549   │\n",
       "│ 2020 ┆ 3     ┆ 861.493243  ┆ 44.641892   │\n",
       "│ 2020 ┆ 4     ┆ 1018.598394 ┆ 46.128514   │\n",
       "│ 2020 ┆ 5     ┆ 773.646707  ┆ 26.538922   │\n",
       "│ …    ┆ …     ┆ …           ┆ …           │\n",
       "│ 2021 ┆ 8     ┆ 6225.384615 ┆ 392.455128  │\n",
       "│ 2021 ┆ 9     ┆ 3692.845395 ┆ 165.983553  │\n",
       "│ 2021 ┆ 10    ┆ 4242.236749 ┆ 173.823322  │\n",
       "│ 2021 ┆ 11    ┆ 4057.727273 ┆ 148.846591  │\n",
       "│ 2021 ┆ 12    ┆ 3934.084142 ┆ 90.724919   │\n",
       "└──────┴───────┴─────────────┴─────────────┘"
      ]
     },
     "execution_count": 20,
     "metadata": {},
     "output_type": "execute_result"
    }
   ],
   "source": [
    "# For impressions & engagements column get the average for each year & month (2020-01, 2020-02, etc...)\n",
    "# And sort by year and then by month\n",
    "(df.groupby([\n",
    "    pl.col(\"time_dt\").dt.year().alias(\"year\"),\n",
    "    pl.col(\"time_dt\").dt.month().alias(\"month\"),\n",
    "    ]).mean()\n",
    ".sort(['year', 'month'])\n",
    ".select(['year', 'month', 'impressions', 'engagements'])\n",
    ")\n",
    "    "
   ]
  },
  {
   "cell_type": "code",
   "execution_count": 21,
   "metadata": {},
   "outputs": [
    {
     "data": {
      "text/html": [
       "<div><style>\n",
       ".dataframe > thead > tr,\n",
       ".dataframe > tbody > tr {\n",
       "  text-align: right;\n",
       "  white-space: pre-wrap;\n",
       "}\n",
       "</style>\n",
       "<small>shape: (5, 2)</small><table border=\"1\" class=\"dataframe\"><thead><tr><th>Tweet text</th><th>impressions</th></tr><tr><td>str</td><td>f64</td></tr></thead><tbody><tr><td>&quot;@FogleBird Loo…</td><td>154.0</td></tr><tr><td>&quot;@afilina That&#x27;…</td><td>1024.0</td></tr><tr><td>&quot;@randal_olson …</td><td>1419.0</td></tr><tr><td>&quot;@AlSweigart So…</td><td>198.0</td></tr><tr><td>&quot;@tmarthal @Ted…</td><td>170.0</td></tr></tbody></table></div>"
      ],
      "text/plain": [
       "shape: (5, 2)\n",
       "┌───────────────────────────────────┬─────────────┐\n",
       "│ Tweet text                        ┆ impressions │\n",
       "│ ---                               ┆ ---         │\n",
       "│ str                               ┆ f64         │\n",
       "╞═══════════════════════════════════╪═════════════╡\n",
       "│ @FogleBird Looks like SLC. I can… ┆ 154.0       │\n",
       "│ @afilina That's really amount an… ┆ 1024.0      │\n",
       "│ @randal_olson I use anaconda whe… ┆ 1419.0      │\n",
       "│ @AlSweigart Sometimes the studen… ┆ 198.0       │\n",
       "│ @tmarthal @TedPetrou This. Just … ┆ 170.0       │\n",
       "└───────────────────────────────────┴─────────────┘"
      ]
     },
     "execution_count": 21,
     "metadata": {},
     "output_type": "execute_result"
    }
   ],
   "source": [
    "# Get all the impressions of the Tweets that mention someone\n",
    "# Bonus - within the year of 2020\n",
    "df.filter(pl.col(\"Tweet text\").str.contains(\"@\")).select(\n",
    "    [\"Tweet text\", \"impressions\"]\n",
    ").head()"
   ]
  },
  {
   "cell_type": "code",
   "execution_count": 24,
   "metadata": {},
   "outputs": [
    {
     "data": {
      "text/html": [
       "<div><style>\n",
       ".dataframe > thead > tr,\n",
       ".dataframe > tbody > tr {\n",
       "  text-align: right;\n",
       "  white-space: pre-wrap;\n",
       "}\n",
       "</style>\n",
       "<small>shape: (5, 47)</small><table border=\"1\" class=\"dataframe\"><thead><tr><th>Tweet id</th><th>Tweet permalink</th><th>Tweet text</th><th>time</th><th>impressions</th><th>engagements</th><th>engagement rate</th><th>retweets</th><th>replies</th><th>likes</th><th>user profile clicks</th><th>url clicks</th><th>hashtag clicks</th><th>detail expands</th><th>permalink clicks</th><th>app opens</th><th>app installs</th><th>follows</th><th>email tweet</th><th>dial phone</th><th>media views</th><th>media engagements</th><th>promoted impressions</th><th>promoted engagements</th><th>promoted engagement rate</th><th>promoted retweets</th><th>promoted replies</th><th>promoted likes</th><th>promoted user profile clicks</th><th>promoted url clicks</th><th>promoted hashtag clicks</th><th>promoted detail expands</th><th>promoted permalink clicks</th><th>promoted app opens</th><th>promoted app installs</th><th>promoted follows</th><th>promoted email tweet</th><th>promoted dial phone</th><th>promoted media views</th><th>promoted media engagements</th><th>time_dt</th><th>field_0</th><th>field_1</th><th>field_2</th><th>field_3</th><th>field_4</th><th>field_5</th></tr><tr><td>i64</td><td>str</td><td>str</td><td>str</td><td>f64</td><td>f64</td><td>f64</td><td>f64</td><td>f64</td><td>f64</td><td>f64</td><td>f64</td><td>f64</td><td>f64</td><td>f64</td><td>i64</td><td>i64</td><td>i64</td><td>i64</td><td>i64</td><td>i64</td><td>i64</td><td>str</td><td>str</td><td>str</td><td>str</td><td>str</td><td>str</td><td>str</td><td>str</td><td>str</td><td>str</td><td>str</td><td>str</td><td>str</td><td>str</td><td>str</td><td>str</td><td>str</td><td>str</td><td>datetime[μs]</td><td>str</td><td>str</td><td>str</td><td>str</td><td>str</td><td>str</td></tr></thead><tbody><tr><td>1212580517905780737</td><td>&quot;https://twitte…</td><td>&quot;Sounds like a …</td><td>&quot;2020-01-02 03:…</td><td>1465.0</td><td>7.0</td><td>0.004778</td><td>0.0</td><td>0.0</td><td>3.0</td><td>3.0</td><td>0.0</td><td>0.0</td><td>1.0</td><td>0.0</td><td>0</td><td>0</td><td>0</td><td>0</td><td>0</td><td>0</td><td>0</td><td>null</td><td>null</td><td>null</td><td>null</td><td>null</td><td>null</td><td>null</td><td>null</td><td>null</td><td>null</td><td>null</td><td>null</td><td>null</td><td>null</td><td>null</td><td>null</td><td>null</td><td>null</td><td>2020-01-02 03:44:00</td><td>&quot;https:&quot;</td><td>&quot;&quot;</td><td>&quot;twitter.com&quot;</td><td>&quot;__mharrison__&quot;</td><td>&quot;status&quot;</td><td>&quot;12125805179057…</td></tr><tr><td>1212582494828036097</td><td>&quot;https://twitte…</td><td>&quot;@FogleBird Loo…</td><td>&quot;2020-01-02 03:…</td><td>154.0</td><td>3.0</td><td>0.019481</td><td>0.0</td><td>0.0</td><td>1.0</td><td>1.0</td><td>0.0</td><td>0.0</td><td>1.0</td><td>0.0</td><td>0</td><td>0</td><td>0</td><td>0</td><td>0</td><td>0</td><td>0</td><td>null</td><td>null</td><td>null</td><td>null</td><td>null</td><td>null</td><td>null</td><td>null</td><td>null</td><td>null</td><td>null</td><td>null</td><td>null</td><td>null</td><td>null</td><td>null</td><td>null</td><td>null</td><td>2020-01-02 03:52:00</td><td>&quot;https:&quot;</td><td>&quot;&quot;</td><td>&quot;twitter.com&quot;</td><td>&quot;__mharrison__&quot;</td><td>&quot;status&quot;</td><td>&quot;12125824948280…</td></tr><tr><td>1212613735698690049</td><td>&quot;https://twitte…</td><td>&quot;@afilina That&#x27;…</td><td>&quot;2020-01-02 05:…</td><td>1024.0</td><td>6.0</td><td>0.005859</td><td>0.0</td><td>0.0</td><td>1.0</td><td>2.0</td><td>0.0</td><td>0.0</td><td>3.0</td><td>0.0</td><td>0</td><td>0</td><td>0</td><td>0</td><td>0</td><td>0</td><td>0</td><td>null</td><td>null</td><td>null</td><td>null</td><td>null</td><td>null</td><td>null</td><td>null</td><td>null</td><td>null</td><td>null</td><td>null</td><td>null</td><td>null</td><td>null</td><td>null</td><td>null</td><td>null</td><td>2020-01-02 05:56:00</td><td>&quot;https:&quot;</td><td>&quot;&quot;</td><td>&quot;twitter.com&quot;</td><td>&quot;__mharrison__&quot;</td><td>&quot;status&quot;</td><td>&quot;12126137356986…</td></tr><tr><td>1212911749617242113</td><td>&quot;https://twitte…</td><td>&quot;@randal_olson …</td><td>&quot;2020-01-03 01:…</td><td>1419.0</td><td>14.0</td><td>0.009866</td><td>0.0</td><td>1.0</td><td>5.0</td><td>7.0</td><td>0.0</td><td>0.0</td><td>1.0</td><td>0.0</td><td>0</td><td>0</td><td>0</td><td>0</td><td>0</td><td>0</td><td>0</td><td>null</td><td>null</td><td>null</td><td>null</td><td>null</td><td>null</td><td>null</td><td>null</td><td>null</td><td>null</td><td>null</td><td>null</td><td>null</td><td>null</td><td>null</td><td>null</td><td>null</td><td>null</td><td>2020-01-03 01:41:00</td><td>&quot;https:&quot;</td><td>&quot;&quot;</td><td>&quot;twitter.com&quot;</td><td>&quot;__mharrison__&quot;</td><td>&quot;status&quot;</td><td>&quot;12129117496172…</td></tr><tr><td>1212920556028252160</td><td>&quot;https://twitte…</td><td>&quot;@AlSweigart So…</td><td>&quot;2020-01-03 02:…</td><td>198.0</td><td>1.0</td><td>0.005051</td><td>0.0</td><td>0.0</td><td>1.0</td><td>0.0</td><td>0.0</td><td>0.0</td><td>0.0</td><td>0.0</td><td>0</td><td>0</td><td>0</td><td>0</td><td>0</td><td>0</td><td>0</td><td>null</td><td>null</td><td>null</td><td>null</td><td>null</td><td>null</td><td>null</td><td>null</td><td>null</td><td>null</td><td>null</td><td>null</td><td>null</td><td>null</td><td>null</td><td>null</td><td>null</td><td>null</td><td>2020-01-03 02:16:00</td><td>&quot;https:&quot;</td><td>&quot;&quot;</td><td>&quot;twitter.com&quot;</td><td>&quot;__mharrison__&quot;</td><td>&quot;status&quot;</td><td>&quot;12129205560282…</td></tr></tbody></table></div>"
      ],
      "text/plain": [
       "shape: (5, 47)\n",
       "┌────────────┬───────────┬───────────┬───────────┬───┬───────────┬───────────┬─────────┬───────────┐\n",
       "│ Tweet id   ┆ Tweet     ┆ Tweet     ┆ time      ┆ … ┆ field_2   ┆ field_3   ┆ field_4 ┆ field_5   │\n",
       "│ ---        ┆ permalink ┆ text      ┆ ---       ┆   ┆ ---       ┆ ---       ┆ ---     ┆ ---       │\n",
       "│ i64        ┆ ---       ┆ ---       ┆ str       ┆   ┆ str       ┆ str       ┆ str     ┆ str       │\n",
       "│            ┆ str       ┆ str       ┆           ┆   ┆           ┆           ┆         ┆           │\n",
       "╞════════════╪═══════════╪═══════════╪═══════════╪═══╪═══════════╪═══════════╪═════════╪═══════════╡\n",
       "│ 1212580517 ┆ https://t ┆ Sounds    ┆ 2020-01-0 ┆ … ┆ twitter.c ┆ __mharris ┆ status  ┆ 121258051 │\n",
       "│ 905780737  ┆ witter.co ┆ like a    ┆ 2 03:44:0 ┆   ┆ om        ┆ on__      ┆         ┆ 790578073 │\n",
       "│            ┆ m/__mharr ┆ great     ┆ 0+00:00   ┆   ┆           ┆           ┆         ┆ 7         │\n",
       "│            ┆ ison_…    ┆ topic!    ┆           ┆   ┆           ┆           ┆         ┆           │\n",
       "│            ┆           ┆ https…    ┆           ┆   ┆           ┆           ┆         ┆           │\n",
       "│ 1212582494 ┆ https://t ┆ @FogleBir ┆ 2020-01-0 ┆ … ┆ twitter.c ┆ __mharris ┆ status  ┆ 121258249 │\n",
       "│ 828036097  ┆ witter.co ┆ d Looks   ┆ 2 03:52:0 ┆   ┆ om        ┆ on__      ┆         ┆ 482803609 │\n",
       "│            ┆ m/__mharr ┆ like SLC. ┆ 0+00:00   ┆   ┆           ┆           ┆         ┆ 7         │\n",
       "│            ┆ ison_…    ┆ I can…    ┆           ┆   ┆           ┆           ┆         ┆           │\n",
       "│ 1212613735 ┆ https://t ┆ @afilina  ┆ 2020-01-0 ┆ … ┆ twitter.c ┆ __mharris ┆ status  ┆ 121261373 │\n",
       "│ 698690049  ┆ witter.co ┆ That's    ┆ 2 05:56:0 ┆   ┆ om        ┆ on__      ┆         ┆ 569869004 │\n",
       "│            ┆ m/__mharr ┆ really    ┆ 0+00:00   ┆   ┆           ┆           ┆         ┆ 9         │\n",
       "│            ┆ ison_…    ┆ amount    ┆           ┆   ┆           ┆           ┆         ┆           │\n",
       "│            ┆           ┆ an…       ┆           ┆   ┆           ┆           ┆         ┆           │\n",
       "│ 1212911749 ┆ https://t ┆ @randal_o ┆ 2020-01-0 ┆ … ┆ twitter.c ┆ __mharris ┆ status  ┆ 121291174 │\n",
       "│ 617242113  ┆ witter.co ┆ lson I    ┆ 3 01:41:0 ┆   ┆ om        ┆ on__      ┆         ┆ 961724211 │\n",
       "│            ┆ m/__mharr ┆ use       ┆ 0+00:00   ┆   ┆           ┆           ┆         ┆ 3         │\n",
       "│            ┆ ison_…    ┆ anaconda  ┆           ┆   ┆           ┆           ┆         ┆           │\n",
       "│            ┆           ┆ whe…      ┆           ┆   ┆           ┆           ┆         ┆           │\n",
       "│ 1212920556 ┆ https://t ┆ @AlSweiga ┆ 2020-01-0 ┆ … ┆ twitter.c ┆ __mharris ┆ status  ┆ 121292055 │\n",
       "│ 028252160  ┆ witter.co ┆ rt        ┆ 3 02:16:0 ┆   ┆ om        ┆ on__      ┆         ┆ 602825216 │\n",
       "│            ┆ m/__mharr ┆ Sometimes ┆ 0+00:00   ┆   ┆           ┆           ┆         ┆ 0         │\n",
       "│            ┆ ison_…    ┆ the       ┆           ┆   ┆           ┆           ┆         ┆           │\n",
       "│            ┆           ┆ studen…   ┆           ┆   ┆           ┆           ┆         ┆           │\n",
       "└────────────┴───────────┴───────────┴───────────┴───┴───────────┴───────────┴─────────┴───────────┘"
      ]
     },
     "execution_count": 24,
     "metadata": {},
     "output_type": "execute_result"
    }
   ],
   "source": [
    "# split the domain, user, and status to separate columns\n",
    "df.head().with_columns(pl.col('Tweet permalink').str.split('/').list.to_struct().alias('link_list')).unnest('link_list')\n",
    "# df['Tweet permalink'].head().to_list()"
   ]
  },
  {
   "cell_type": "markdown",
   "metadata": {},
   "source": [
    "## End"
   ]
  }
 ],
 "metadata": {
  "kernelspec": {
   "display_name": "venv",
   "language": "python",
   "name": "python3"
  },
  "language_info": {
   "codemirror_mode": {
    "name": "ipython",
    "version": 3
   },
   "file_extension": ".py",
   "mimetype": "text/x-python",
   "name": "python",
   "nbconvert_exporter": "python",
   "pygments_lexer": "ipython3",
   "version": "3.11.1"
  }
 },
 "nbformat": 4,
 "nbformat_minor": 2
}
